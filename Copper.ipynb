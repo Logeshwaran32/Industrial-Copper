{
  "nbformat": 4,
  "nbformat_minor": 0,
  "metadata": {
    "colab": {
      "provenance": [],
      "authorship_tag": "ABX9TyNyRGxbEBUqYGzS0sDC7s9e",
      "include_colab_link": true
    },
    "kernelspec": {
      "name": "python3",
      "display_name": "Python 3"
    },
    "language_info": {
      "name": "python"
    }
  },
  "cells": [
    {
      "cell_type": "markdown",
      "metadata": {
        "id": "view-in-github",
        "colab_type": "text"
      },
      "source": [
        "<a href=\"https://colab.research.google.com/github/Logeshwaran32/Industrial-Copper/blob/main/Copper.ipynb\" target=\"_parent\"><img src=\"https://colab.research.google.com/assets/colab-badge.svg\" alt=\"Open In Colab\"/></a>"
      ]
    },
    {
      "cell_type": "code",
      "source": [
        "# Importing libraries\n",
        "\n",
        "import pandas as pd\n",
        "import seaborn as sns\n",
        "import numpy as np\n",
        "import matplotlib.pyplot as plt\n",
        "import warnings\n",
        "warnings.filterwarnings(\"ignore\")"
      ],
      "metadata": {
        "id": "m_b7SeCk6_Dy"
      },
      "execution_count": null,
      "outputs": []
    },
    {
      "cell_type": "code",
      "source": [
        "# Read the CSV file into a pandas dataframe\n",
        "df = pd.read_csv('/content/Copper_Set.xlsx - Result 1.csv')\n",
        "df.head(5)"
      ],
      "metadata": {
        "id": "RoQ8PUbXQtO8",
        "colab": {
          "base_uri": "https://localhost:8080/",
          "height": 487
        },
        "outputId": "1ca53bd7-6eb8-42dd-d03f-7bcec091e36a"
      },
      "execution_count": null,
      "outputs": [
        {
          "output_type": "execute_result",
          "data": {
            "text/plain": [
              "                                     id  item_date  quantity tons    customer  \\\n",
              "0  EC06F063-9DF0-440C-8764-0B0C05A4F6AE   20210401      54.151139  30156308.0   \n",
              "1  4E5F4B3D-DDDF-499D-AFDE-A3227EC49425   20210401     768.024839  30202938.0   \n",
              "2  E140FF1B-2407-4C02-A0DD-780A093B1158   20210401     386.127949  30153963.0   \n",
              "3  F8D507A0-9C62-4EFE-831E-33E1DA53BB50   20210401     202.411065  30349574.0   \n",
              "4  4E1C4E78-152B-430A-8094-ADD889C9D0AD   20210401     785.526262  30211560.0   \n",
              "\n",
              "   country status item type  application  thickness   width  \\\n",
              "0     28.0    Won         W         10.0       2.00  1500.0   \n",
              "1     25.0    Won         W         41.0       0.80  1210.0   \n",
              "2     30.0    Won        WI         28.0       0.38   952.0   \n",
              "3     32.0    Won         S         59.0       2.30  1317.0   \n",
              "4     28.0    Won         W         10.0       4.00  2000.0   \n",
              "\n",
              "                               material_ref   product_ref  delivery date  \\\n",
              "0                               DEQ1 S460MC  1.670799e+09     20210701.0   \n",
              "1  0000000000000000000000000000000000104991  1.668702e+09     20210401.0   \n",
              "2                                  S0380700  6.283770e+05     20210101.0   \n",
              "3                   DX51D+ZM310MAO 2.3X1317  1.668702e+09     20210101.0   \n",
              "4                           2_S275JR+AR-CL1  6.406650e+05     20210301.0   \n",
              "\n",
              "   selling_price  \n",
              "0         854.00  \n",
              "1        1047.00  \n",
              "2         644.33  \n",
              "3         768.00  \n",
              "4         577.00  "
            ],
            "text/html": [
              "\n",
              "  <div id=\"df-a061eb3a-5e65-4f18-a2ce-bec9772d9551\" class=\"colab-df-container\">\n",
              "    <div>\n",
              "<style scoped>\n",
              "    .dataframe tbody tr th:only-of-type {\n",
              "        vertical-align: middle;\n",
              "    }\n",
              "\n",
              "    .dataframe tbody tr th {\n",
              "        vertical-align: top;\n",
              "    }\n",
              "\n",
              "    .dataframe thead th {\n",
              "        text-align: right;\n",
              "    }\n",
              "</style>\n",
              "<table border=\"1\" class=\"dataframe\">\n",
              "  <thead>\n",
              "    <tr style=\"text-align: right;\">\n",
              "      <th></th>\n",
              "      <th>id</th>\n",
              "      <th>item_date</th>\n",
              "      <th>quantity tons</th>\n",
              "      <th>customer</th>\n",
              "      <th>country</th>\n",
              "      <th>status</th>\n",
              "      <th>item type</th>\n",
              "      <th>application</th>\n",
              "      <th>thickness</th>\n",
              "      <th>width</th>\n",
              "      <th>material_ref</th>\n",
              "      <th>product_ref</th>\n",
              "      <th>delivery date</th>\n",
              "      <th>selling_price</th>\n",
              "    </tr>\n",
              "  </thead>\n",
              "  <tbody>\n",
              "    <tr>\n",
              "      <th>0</th>\n",
              "      <td>EC06F063-9DF0-440C-8764-0B0C05A4F6AE</td>\n",
              "      <td>20210401</td>\n",
              "      <td>54.151139</td>\n",
              "      <td>30156308.0</td>\n",
              "      <td>28.0</td>\n",
              "      <td>Won</td>\n",
              "      <td>W</td>\n",
              "      <td>10.0</td>\n",
              "      <td>2.00</td>\n",
              "      <td>1500.0</td>\n",
              "      <td>DEQ1 S460MC</td>\n",
              "      <td>1.670799e+09</td>\n",
              "      <td>20210701.0</td>\n",
              "      <td>854.00</td>\n",
              "    </tr>\n",
              "    <tr>\n",
              "      <th>1</th>\n",
              "      <td>4E5F4B3D-DDDF-499D-AFDE-A3227EC49425</td>\n",
              "      <td>20210401</td>\n",
              "      <td>768.024839</td>\n",
              "      <td>30202938.0</td>\n",
              "      <td>25.0</td>\n",
              "      <td>Won</td>\n",
              "      <td>W</td>\n",
              "      <td>41.0</td>\n",
              "      <td>0.80</td>\n",
              "      <td>1210.0</td>\n",
              "      <td>0000000000000000000000000000000000104991</td>\n",
              "      <td>1.668702e+09</td>\n",
              "      <td>20210401.0</td>\n",
              "      <td>1047.00</td>\n",
              "    </tr>\n",
              "    <tr>\n",
              "      <th>2</th>\n",
              "      <td>E140FF1B-2407-4C02-A0DD-780A093B1158</td>\n",
              "      <td>20210401</td>\n",
              "      <td>386.127949</td>\n",
              "      <td>30153963.0</td>\n",
              "      <td>30.0</td>\n",
              "      <td>Won</td>\n",
              "      <td>WI</td>\n",
              "      <td>28.0</td>\n",
              "      <td>0.38</td>\n",
              "      <td>952.0</td>\n",
              "      <td>S0380700</td>\n",
              "      <td>6.283770e+05</td>\n",
              "      <td>20210101.0</td>\n",
              "      <td>644.33</td>\n",
              "    </tr>\n",
              "    <tr>\n",
              "      <th>3</th>\n",
              "      <td>F8D507A0-9C62-4EFE-831E-33E1DA53BB50</td>\n",
              "      <td>20210401</td>\n",
              "      <td>202.411065</td>\n",
              "      <td>30349574.0</td>\n",
              "      <td>32.0</td>\n",
              "      <td>Won</td>\n",
              "      <td>S</td>\n",
              "      <td>59.0</td>\n",
              "      <td>2.30</td>\n",
              "      <td>1317.0</td>\n",
              "      <td>DX51D+ZM310MAO 2.3X1317</td>\n",
              "      <td>1.668702e+09</td>\n",
              "      <td>20210101.0</td>\n",
              "      <td>768.00</td>\n",
              "    </tr>\n",
              "    <tr>\n",
              "      <th>4</th>\n",
              "      <td>4E1C4E78-152B-430A-8094-ADD889C9D0AD</td>\n",
              "      <td>20210401</td>\n",
              "      <td>785.526262</td>\n",
              "      <td>30211560.0</td>\n",
              "      <td>28.0</td>\n",
              "      <td>Won</td>\n",
              "      <td>W</td>\n",
              "      <td>10.0</td>\n",
              "      <td>4.00</td>\n",
              "      <td>2000.0</td>\n",
              "      <td>2_S275JR+AR-CL1</td>\n",
              "      <td>6.406650e+05</td>\n",
              "      <td>20210301.0</td>\n",
              "      <td>577.00</td>\n",
              "    </tr>\n",
              "  </tbody>\n",
              "</table>\n",
              "</div>\n",
              "    <div class=\"colab-df-buttons\">\n",
              "\n",
              "  <div class=\"colab-df-container\">\n",
              "    <button class=\"colab-df-convert\" onclick=\"convertToInteractive('df-a061eb3a-5e65-4f18-a2ce-bec9772d9551')\"\n",
              "            title=\"Convert this dataframe to an interactive table.\"\n",
              "            style=\"display:none;\">\n",
              "\n",
              "  <svg xmlns=\"http://www.w3.org/2000/svg\" height=\"24px\" viewBox=\"0 -960 960 960\">\n",
              "    <path d=\"M120-120v-720h720v720H120Zm60-500h600v-160H180v160Zm220 220h160v-160H400v160Zm0 220h160v-160H400v160ZM180-400h160v-160H180v160Zm440 0h160v-160H620v160ZM180-180h160v-160H180v160Zm440 0h160v-160H620v160Z\"/>\n",
              "  </svg>\n",
              "    </button>\n",
              "\n",
              "  <style>\n",
              "    .colab-df-container {\n",
              "      display:flex;\n",
              "      gap: 12px;\n",
              "    }\n",
              "\n",
              "    .colab-df-convert {\n",
              "      background-color: #E8F0FE;\n",
              "      border: none;\n",
              "      border-radius: 50%;\n",
              "      cursor: pointer;\n",
              "      display: none;\n",
              "      fill: #1967D2;\n",
              "      height: 32px;\n",
              "      padding: 0 0 0 0;\n",
              "      width: 32px;\n",
              "    }\n",
              "\n",
              "    .colab-df-convert:hover {\n",
              "      background-color: #E2EBFA;\n",
              "      box-shadow: 0px 1px 2px rgba(60, 64, 67, 0.3), 0px 1px 3px 1px rgba(60, 64, 67, 0.15);\n",
              "      fill: #174EA6;\n",
              "    }\n",
              "\n",
              "    .colab-df-buttons div {\n",
              "      margin-bottom: 4px;\n",
              "    }\n",
              "\n",
              "    [theme=dark] .colab-df-convert {\n",
              "      background-color: #3B4455;\n",
              "      fill: #D2E3FC;\n",
              "    }\n",
              "\n",
              "    [theme=dark] .colab-df-convert:hover {\n",
              "      background-color: #434B5C;\n",
              "      box-shadow: 0px 1px 3px 1px rgba(0, 0, 0, 0.15);\n",
              "      filter: drop-shadow(0px 1px 2px rgba(0, 0, 0, 0.3));\n",
              "      fill: #FFFFFF;\n",
              "    }\n",
              "  </style>\n",
              "\n",
              "    <script>\n",
              "      const buttonEl =\n",
              "        document.querySelector('#df-a061eb3a-5e65-4f18-a2ce-bec9772d9551 button.colab-df-convert');\n",
              "      buttonEl.style.display =\n",
              "        google.colab.kernel.accessAllowed ? 'block' : 'none';\n",
              "\n",
              "      async function convertToInteractive(key) {\n",
              "        const element = document.querySelector('#df-a061eb3a-5e65-4f18-a2ce-bec9772d9551');\n",
              "        const dataTable =\n",
              "          await google.colab.kernel.invokeFunction('convertToInteractive',\n",
              "                                                    [key], {});\n",
              "        if (!dataTable) return;\n",
              "\n",
              "        const docLinkHtml = 'Like what you see? Visit the ' +\n",
              "          '<a target=\"_blank\" href=https://colab.research.google.com/notebooks/data_table.ipynb>data table notebook</a>'\n",
              "          + ' to learn more about interactive tables.';\n",
              "        element.innerHTML = '';\n",
              "        dataTable['output_type'] = 'display_data';\n",
              "        await google.colab.output.renderOutput(dataTable, element);\n",
              "        const docLink = document.createElement('div');\n",
              "        docLink.innerHTML = docLinkHtml;\n",
              "        element.appendChild(docLink);\n",
              "      }\n",
              "    </script>\n",
              "  </div>\n",
              "\n",
              "\n",
              "<div id=\"df-ca2925bf-91f4-437e-a0a9-9ccd1a413134\">\n",
              "  <button class=\"colab-df-quickchart\" onclick=\"quickchart('df-ca2925bf-91f4-437e-a0a9-9ccd1a413134')\"\n",
              "            title=\"Suggest charts\"\n",
              "            style=\"display:none;\">\n",
              "\n",
              "<svg xmlns=\"http://www.w3.org/2000/svg\" height=\"24px\"viewBox=\"0 0 24 24\"\n",
              "     width=\"24px\">\n",
              "    <g>\n",
              "        <path d=\"M19 3H5c-1.1 0-2 .9-2 2v14c0 1.1.9 2 2 2h14c1.1 0 2-.9 2-2V5c0-1.1-.9-2-2-2zM9 17H7v-7h2v7zm4 0h-2V7h2v10zm4 0h-2v-4h2v4z\"/>\n",
              "    </g>\n",
              "</svg>\n",
              "  </button>\n",
              "\n",
              "<style>\n",
              "  .colab-df-quickchart {\n",
              "      --bg-color: #E8F0FE;\n",
              "      --fill-color: #1967D2;\n",
              "      --hover-bg-color: #E2EBFA;\n",
              "      --hover-fill-color: #174EA6;\n",
              "      --disabled-fill-color: #AAA;\n",
              "      --disabled-bg-color: #DDD;\n",
              "  }\n",
              "\n",
              "  [theme=dark] .colab-df-quickchart {\n",
              "      --bg-color: #3B4455;\n",
              "      --fill-color: #D2E3FC;\n",
              "      --hover-bg-color: #434B5C;\n",
              "      --hover-fill-color: #FFFFFF;\n",
              "      --disabled-bg-color: #3B4455;\n",
              "      --disabled-fill-color: #666;\n",
              "  }\n",
              "\n",
              "  .colab-df-quickchart {\n",
              "    background-color: var(--bg-color);\n",
              "    border: none;\n",
              "    border-radius: 50%;\n",
              "    cursor: pointer;\n",
              "    display: none;\n",
              "    fill: var(--fill-color);\n",
              "    height: 32px;\n",
              "    padding: 0;\n",
              "    width: 32px;\n",
              "  }\n",
              "\n",
              "  .colab-df-quickchart:hover {\n",
              "    background-color: var(--hover-bg-color);\n",
              "    box-shadow: 0 1px 2px rgba(60, 64, 67, 0.3), 0 1px 3px 1px rgba(60, 64, 67, 0.15);\n",
              "    fill: var(--button-hover-fill-color);\n",
              "  }\n",
              "\n",
              "  .colab-df-quickchart-complete:disabled,\n",
              "  .colab-df-quickchart-complete:disabled:hover {\n",
              "    background-color: var(--disabled-bg-color);\n",
              "    fill: var(--disabled-fill-color);\n",
              "    box-shadow: none;\n",
              "  }\n",
              "\n",
              "  .colab-df-spinner {\n",
              "    border: 2px solid var(--fill-color);\n",
              "    border-color: transparent;\n",
              "    border-bottom-color: var(--fill-color);\n",
              "    animation:\n",
              "      spin 1s steps(1) infinite;\n",
              "  }\n",
              "\n",
              "  @keyframes spin {\n",
              "    0% {\n",
              "      border-color: transparent;\n",
              "      border-bottom-color: var(--fill-color);\n",
              "      border-left-color: var(--fill-color);\n",
              "    }\n",
              "    20% {\n",
              "      border-color: transparent;\n",
              "      border-left-color: var(--fill-color);\n",
              "      border-top-color: var(--fill-color);\n",
              "    }\n",
              "    30% {\n",
              "      border-color: transparent;\n",
              "      border-left-color: var(--fill-color);\n",
              "      border-top-color: var(--fill-color);\n",
              "      border-right-color: var(--fill-color);\n",
              "    }\n",
              "    40% {\n",
              "      border-color: transparent;\n",
              "      border-right-color: var(--fill-color);\n",
              "      border-top-color: var(--fill-color);\n",
              "    }\n",
              "    60% {\n",
              "      border-color: transparent;\n",
              "      border-right-color: var(--fill-color);\n",
              "    }\n",
              "    80% {\n",
              "      border-color: transparent;\n",
              "      border-right-color: var(--fill-color);\n",
              "      border-bottom-color: var(--fill-color);\n",
              "    }\n",
              "    90% {\n",
              "      border-color: transparent;\n",
              "      border-bottom-color: var(--fill-color);\n",
              "    }\n",
              "  }\n",
              "</style>\n",
              "\n",
              "  <script>\n",
              "    async function quickchart(key) {\n",
              "      const quickchartButtonEl =\n",
              "        document.querySelector('#' + key + ' button');\n",
              "      quickchartButtonEl.disabled = true;  // To prevent multiple clicks.\n",
              "      quickchartButtonEl.classList.add('colab-df-spinner');\n",
              "      try {\n",
              "        const charts = await google.colab.kernel.invokeFunction(\n",
              "            'suggestCharts', [key], {});\n",
              "      } catch (error) {\n",
              "        console.error('Error during call to suggestCharts:', error);\n",
              "      }\n",
              "      quickchartButtonEl.classList.remove('colab-df-spinner');\n",
              "      quickchartButtonEl.classList.add('colab-df-quickchart-complete');\n",
              "    }\n",
              "    (() => {\n",
              "      let quickchartButtonEl =\n",
              "        document.querySelector('#df-ca2925bf-91f4-437e-a0a9-9ccd1a413134 button');\n",
              "      quickchartButtonEl.style.display =\n",
              "        google.colab.kernel.accessAllowed ? 'block' : 'none';\n",
              "    })();\n",
              "  </script>\n",
              "</div>\n",
              "\n",
              "    </div>\n",
              "  </div>\n"
            ],
            "application/vnd.google.colaboratory.intrinsic+json": {
              "type": "dataframe",
              "variable_name": "df",
              "summary": "{\n  \"name\": \"df\",\n  \"rows\": 75632,\n  \"fields\": [\n    {\n      \"column\": \"id\",\n      \"properties\": {\n        \"dtype\": \"string\",\n        \"num_unique_values\": 75631,\n        \"samples\": [\n          \"5A7B8215-F909-42CB-922C-513A6BEF3359\",\n          \"EF58B4DC-0CFC-4428-A304-A3FE3BABF3E2\",\n          \"2F9D2112-B159-4186-BCB2-32FBF6C651C8\"\n        ],\n        \"semantic_type\": \"\",\n        \"description\": \"\"\n      }\n    },\n    {\n      \"column\": \"item_date\",\n      \"properties\": {\n        \"dtype\": \"number\",\n        \"std\": 2379,\n        \"min\": 19950000,\n        \"max\": 20210401,\n        \"num_unique_values\": 101,\n        \"samples\": [\n          20210104,\n          20210203,\n          20210122\n        ],\n        \"semantic_type\": \"\",\n        \"description\": \"\"\n      }\n    },\n    {\n      \"column\": \"quantity tons\",\n      \"properties\": {\n        \"dtype\": \"number\",\n        \"std\": 404.99157055359467,\n        \"min\": 0.001867762818,\n        \"max\": 24000.32336,\n        \"num_unique_values\": 75632,\n        \"samples\": [\n          29.22186279,\n          29.13344938,\n          37.85039275\n        ],\n        \"semantic_type\": \"\",\n        \"description\": \"\"\n      }\n    },\n    {\n      \"column\": \"customer\",\n      \"properties\": {\n        \"dtype\": \"number\",\n        \"std\": 130903.73362832113,\n        \"min\": 12458.0,\n        \"max\": 30408185.0,\n        \"num_unique_values\": 984,\n        \"samples\": [\n          30200964.0,\n          30345494.0,\n          30201866.0\n        ],\n        \"semantic_type\": \"\",\n        \"description\": \"\"\n      }\n    },\n    {\n      \"column\": \"country\",\n      \"properties\": {\n        \"dtype\": \"number\",\n        \"std\": 24.059711117243605,\n        \"min\": 25.0,\n        \"max\": 113.0,\n        \"num_unique_values\": 17,\n        \"samples\": [\n          28.0,\n          25.0,\n          78.0\n        ],\n        \"semantic_type\": \"\",\n        \"description\": \"\"\n      }\n    },\n    {\n      \"column\": \"status\",\n      \"properties\": {\n        \"dtype\": \"category\",\n        \"num_unique_values\": 9,\n        \"samples\": [\n          \"Offered\",\n          \"Draft\",\n          \"Wonderful\"\n        ],\n        \"semantic_type\": \"\",\n        \"description\": \"\"\n      }\n    },\n    {\n      \"column\": \"item type\",\n      \"properties\": {\n        \"dtype\": \"category\",\n        \"num_unique_values\": 7,\n        \"samples\": [\n          \"W\",\n          \"WI\",\n          \"IPL\"\n        ],\n        \"semantic_type\": \"\",\n        \"description\": \"\"\n      }\n    },\n    {\n      \"column\": \"application\",\n      \"properties\": {\n        \"dtype\": \"number\",\n        \"std\": 17.405905754320475,\n        \"min\": 2.0,\n        \"max\": 99.0,\n        \"num_unique_values\": 30,\n        \"samples\": [\n          65.0,\n          22.0,\n          5.0\n        ],\n        \"semantic_type\": \"\",\n        \"description\": \"\"\n      }\n    },\n    {\n      \"column\": \"thickness\",\n      \"properties\": {\n        \"dtype\": \"number\",\n        \"std\": 9.591567201908909,\n        \"min\": 0.18,\n        \"max\": 2500.0,\n        \"num_unique_values\": 484,\n        \"samples\": [\n          4.04,\n          8.05,\n          2.51\n        ],\n        \"semantic_type\": \"\",\n        \"description\": \"\"\n      }\n    },\n    {\n      \"column\": \"width\",\n      \"properties\": {\n        \"dtype\": \"number\",\n        \"std\": 254.91306602185205,\n        \"min\": 1.0,\n        \"max\": 2990.0,\n        \"num_unique_values\": 1168,\n        \"samples\": [\n          1069.0,\n          589.0,\n          1285.0\n        ],\n        \"semantic_type\": \"\",\n        \"description\": \"\"\n      }\n    },\n    {\n      \"column\": \"material_ref\",\n      \"properties\": {\n        \"dtype\": \"category\",\n        \"num_unique_values\": 11520,\n        \"samples\": [\n          \"FSPA000045\",\n          \"0000000000000000000000000000000008601887\",\n          \"DC01 EKO 2.2\"\n        ],\n        \"semantic_type\": \"\",\n        \"description\": \"\"\n      }\n    },\n    {\n      \"column\": \"product_ref\",\n      \"properties\": {\n        \"dtype\": \"number\",\n        \"std\": 738338565.0453041,\n        \"min\": 611728.0,\n        \"max\": 1722207579.0,\n        \"num_unique_values\": 30,\n        \"samples\": [\n          1690738219.0,\n          1690738206.0,\n          611728.0\n        ],\n        \"semantic_type\": \"\",\n        \"description\": \"\"\n      }\n    },\n    {\n      \"column\": \"delivery date\",\n      \"properties\": {\n        \"dtype\": \"number\",\n        \"std\": 36727.332043372655,\n        \"min\": 20190401.0,\n        \"max\": 30310101.0,\n        \"num_unique_values\": 24,\n        \"samples\": [\n          20210901.0,\n          20211201.0,\n          20210701.0\n        ],\n        \"semantic_type\": \"\",\n        \"description\": \"\"\n      }\n    },\n    {\n      \"column\": \"selling_price\",\n      \"properties\": {\n        \"dtype\": \"number\",\n        \"std\": 514235.90541920386,\n        \"min\": -1160.0,\n        \"max\": 100001015.0,\n        \"num_unique_values\": 4688,\n        \"samples\": [\n          1606.56,\n          657.0,\n          1720.0\n        ],\n        \"semantic_type\": \"\",\n        \"description\": \"\"\n      }\n    }\n  ]\n}"
            }
          },
          "metadata": {},
          "execution_count": 2
        }
      ]
    },
    {
      "cell_type": "markdown",
      "source": [
        "Null values, shape and data types before dealing with incorrect data"
      ],
      "metadata": {
        "id": "yDKqpGQISeBq"
      }
    },
    {
      "cell_type": "code",
      "source": [
        "df.shape"
      ],
      "metadata": {
        "colab": {
          "base_uri": "https://localhost:8080/"
        },
        "id": "_LnS_aIZTdrb",
        "outputId": "f8301898-14dc-485f-9e0a-14b22f21f7ef"
      },
      "execution_count": null,
      "outputs": [
        {
          "output_type": "execute_result",
          "data": {
            "text/plain": [
              "(75632, 14)"
            ]
          },
          "metadata": {},
          "execution_count": 3
        }
      ]
    },
    {
      "cell_type": "code",
      "source": [
        "# missing values\n",
        "missing_values_count = df.isnull().sum()\n",
        "print(missing_values_count)"
      ],
      "metadata": {
        "colab": {
          "base_uri": "https://localhost:8080/"
        },
        "id": "KX9XgBMxTm81",
        "outputId": "6d3b29d3-eb3a-4882-ae40-acd553450920"
      },
      "execution_count": null,
      "outputs": [
        {
          "output_type": "stream",
          "name": "stdout",
          "text": [
            "id                   1\n",
            "item_date            0\n",
            "quantity tons        0\n",
            "customer             1\n",
            "country              1\n",
            "status               1\n",
            "item type            1\n",
            "application          1\n",
            "thickness            1\n",
            "width                1\n",
            "material_ref     32581\n",
            "product_ref          1\n",
            "delivery date        1\n",
            "selling_price        1\n",
            "dtype: int64\n"
          ]
        }
      ]
    },
    {
      "cell_type": "code",
      "source": [
        "df.info()"
      ],
      "metadata": {
        "colab": {
          "base_uri": "https://localhost:8080/"
        },
        "id": "czxiTOGbTtvv",
        "outputId": "067931a1-77ac-4d0f-92da-d38c5d78dcfb"
      },
      "execution_count": null,
      "outputs": [
        {
          "output_type": "stream",
          "name": "stdout",
          "text": [
            "<class 'pandas.core.frame.DataFrame'>\n",
            "RangeIndex: 75632 entries, 0 to 75631\n",
            "Data columns (total 14 columns):\n",
            " #   Column         Non-Null Count  Dtype  \n",
            "---  ------         --------------  -----  \n",
            " 0   id             75631 non-null  object \n",
            " 1   item_date      75632 non-null  int64  \n",
            " 2   quantity tons  75632 non-null  float64\n",
            " 3   customer       75631 non-null  float64\n",
            " 4   country        75631 non-null  float64\n",
            " 5   status         75631 non-null  object \n",
            " 6   item type      75631 non-null  object \n",
            " 7   application    75631 non-null  float64\n",
            " 8   thickness      75631 non-null  float64\n",
            " 9   width          75631 non-null  float64\n",
            " 10  material_ref   43051 non-null  object \n",
            " 11  product_ref    75631 non-null  float64\n",
            " 12  delivery date  75631 non-null  float64\n",
            " 13  selling_price  75631 non-null  float64\n",
            "dtypes: float64(9), int64(1), object(4)\n",
            "memory usage: 8.1+ MB\n"
          ]
        }
      ]
    },
    {
      "cell_type": "markdown",
      "source": [
        "Dealing with data in wrong format"
      ],
      "metadata": {
        "id": "ua6PQ837TswF"
      }
    },
    {
      "cell_type": "code",
      "source": [
        "# dealing with data in wrong format\n",
        "# for categorical variables, this step is ignored\n",
        "# df = df[df['status'].isin(['Won', 'Lost'])]\n",
        "df['item_date'] = pd.to_datetime(df['item_date'], format='%Y%m%d', errors='coerce').dt.date\n",
        "df['quantity tons'] = pd.to_numeric(df['quantity tons'], errors='coerce')\n",
        "df['customer'] = pd.to_numeric(df['customer'], errors='coerce')\n",
        "df['country'] = pd.to_numeric(df['country'], errors='coerce')\n",
        "df['application'] = pd.to_numeric(df['application'], errors='coerce')\n",
        "df['thickness'] = pd.to_numeric(df['thickness'], errors='coerce')\n",
        "df['width'] = pd.to_numeric(df['width'], errors='coerce')\n",
        "df['material_ref'] = df['material_ref'].str.lstrip('0')\n",
        "df['product_ref'] = pd.to_numeric(df['product_ref'], errors='coerce')\n",
        "df['delivery date'] = pd.to_datetime(df['delivery date'], format='%Y%m%d', errors='coerce').dt.date\n",
        "df['selling_price'] = pd.to_numeric(df['selling_price'], errors='coerce')"
      ],
      "metadata": {
        "id": "VjewKrVST1jt"
      },
      "execution_count": null,
      "outputs": []
    },
    {
      "cell_type": "markdown",
      "source": [
        "Nan values and shape after dealing with data in wrong format"
      ],
      "metadata": {
        "id": "AgVzes9TT0uX"
      }
    },
    {
      "cell_type": "code",
      "source": [
        "missing_values_count = df.isnull().sum()\n",
        "print(missing_values_count)\n",
        "print(df.shape)\n",
        "df.info()"
      ],
      "metadata": {
        "colab": {
          "base_uri": "https://localhost:8080/"
        },
        "id": "by9a06zSTxMz",
        "outputId": "a868a5d5-d3f5-41d2-a879-99a396c51fec"
      },
      "execution_count": null,
      "outputs": [
        {
          "output_type": "stream",
          "name": "stdout",
          "text": [
            "id                   1\n",
            "item_date            1\n",
            "quantity tons        0\n",
            "customer             1\n",
            "country              1\n",
            "status               1\n",
            "item type            1\n",
            "application          1\n",
            "thickness            1\n",
            "width                1\n",
            "material_ref     32581\n",
            "product_ref          1\n",
            "delivery date        2\n",
            "selling_price        1\n",
            "dtype: int64\n",
            "(75632, 14)\n",
            "<class 'pandas.core.frame.DataFrame'>\n",
            "RangeIndex: 75632 entries, 0 to 75631\n",
            "Data columns (total 14 columns):\n",
            " #   Column         Non-Null Count  Dtype  \n",
            "---  ------         --------------  -----  \n",
            " 0   id             75631 non-null  object \n",
            " 1   item_date      75631 non-null  object \n",
            " 2   quantity tons  75632 non-null  float64\n",
            " 3   customer       75631 non-null  float64\n",
            " 4   country        75631 non-null  float64\n",
            " 5   status         75631 non-null  object \n",
            " 6   item type      75631 non-null  object \n",
            " 7   application    75631 non-null  float64\n",
            " 8   thickness      75631 non-null  float64\n",
            " 9   width          75631 non-null  float64\n",
            " 10  material_ref   43051 non-null  object \n",
            " 11  product_ref    75631 non-null  float64\n",
            " 12  delivery date  75630 non-null  object \n",
            " 13  selling_price  75631 non-null  float64\n",
            "dtypes: float64(8), object(6)\n",
            "memory usage: 8.1+ MB\n"
          ]
        }
      ]
    },
    {
      "cell_type": "markdown",
      "source": [
        "Dealing with Missing Values"
      ],
      "metadata": {
        "id": "DR8JHgLOT60f"
      }
    },
    {
      "cell_type": "code",
      "source": [
        "# material_ref has large set of null values, so replacing them with unknown\n",
        "df['material_ref'].fillna('unknown', inplace=True)\n",
        "# deleting the remaining null values as they are less than 1% of data which can be neglected\n",
        "df = df.dropna()"
      ],
      "metadata": {
        "id": "sXjRMZzkT7jE"
      },
      "execution_count": null,
      "outputs": []
    },
    {
      "cell_type": "code",
      "source": [
        "missing_values_count = df.isnull().sum()\n",
        "print(missing_values_count)\n",
        "print(df.shape)"
      ],
      "metadata": {
        "colab": {
          "base_uri": "https://localhost:8080/"
        },
        "id": "CS38w1tiUAsg",
        "outputId": "83cb9c2c-5b56-4200-b5ed-2490befd7a17"
      },
      "execution_count": null,
      "outputs": [
        {
          "output_type": "stream",
          "name": "stdout",
          "text": [
            "id               0\n",
            "item_date        0\n",
            "quantity tons    0\n",
            "customer         0\n",
            "country          0\n",
            "status           0\n",
            "item type        0\n",
            "application      0\n",
            "thickness        0\n",
            "width            0\n",
            "material_ref     0\n",
            "product_ref      0\n",
            "delivery date    0\n",
            "selling_price    0\n",
            "dtype: int64\n",
            "(75628, 14)\n"
          ]
        }
      ]
    },
    {
      "cell_type": "code",
      "source": [
        "df_p=df.copy()"
      ],
      "metadata": {
        "id": "5rqD7Rp2UGza"
      },
      "execution_count": null,
      "outputs": []
    },
    {
      "cell_type": "markdown",
      "source": [
        "PLOTTING"
      ],
      "metadata": {
        "id": "EP_Hi259UKEx"
      }
    },
    {
      "cell_type": "code",
      "source": [
        "# ['quantity tons','selling_price','application','thickness','width', 'country']\n",
        "# ['status','item type']\n",
        "\n",
        "df_p['quantity tons']   # skewed\n",
        "df_p['country']\n",
        "df_p['application']\n",
        "df_p['thickness']       # skewed\n",
        "df_p['width']\n",
        "df_p['selling_price']   # skewed\n",
        "\n",
        "import seaborn as sns\n",
        "import matplotlib.pyplot as plt\n",
        "\n",
        "sns.distplot(df_p['quantity tons'])\n",
        "plt.show()\n",
        "sns.distplot(df_p['country'])\n",
        "plt.show()\n",
        "sns.distplot(df_p['application'])\n",
        "plt.show()\n",
        "sns.distplot(df_p['thickness'])\n",
        "plt.show()\n",
        "sns.distplot(df_p['width'])\n",
        "plt.show()\n",
        "sns.distplot(df_p['selling_price'])\n",
        "plt.show()"
      ],
      "metadata": {
        "colab": {
          "base_uri": "https://localhost:8080/",
          "height": 1000
        },
        "id": "lO197mf0UK4D",
        "outputId": "d5cd627a-250a-4861-bf82-e92465414477"
      },
      "execution_count": null,
      "outputs": [
        {
          "output_type": "display_data",
          "data": {
            "text/plain": [
              "<Figure size 640x480 with 1 Axes>"
            ],
            "image/png": "[encoded data removed]"
          },
          "metadata": {}
        },
        {
          "output_type": "display_data",
          "data": {
            "text/plain": [
              "<Figure size 640x480 with 1 Axes>"
            ],
            "image/png": "[encoded data removed]"
          },
          "metadata": {}
        },
        {
          "output_type": "display_data",
          "data": {
            "text/plain": [
              "<Figure size 640x480 with 1 Axes>"
            ],
            "image/png": "[encoded data removed]"
          },
          "metadata": {}
        },
        {
          "output_type": "display_data",
          "data": {
            "text/plain": [
              "<Figure size 640x480 with 1 Axes>"
            ],
            "image/png": "[encoded data removed]"
          },
          "metadata": {}
        },
        {
          "output_type": "display_data",
          "data": {
            "text/plain": [
              "<Figure size 640x480 with 1 Axes>"
            ],
            "image/png": "[encoded data removed]"
          },
          "metadata": {}
        },
        {
          "output_type": "display_data",
          "data": {
            "text/plain": [
              "<Figure size 640x480 with 1 Axes>"
            ],
            "image/png": "[encoded data removed]"
          },
          "metadata": {}
        }
      ]
    },
    {
      "cell_type": "code",
      "source": [
        "import numpy as np\n",
        "mask1 = df_p['selling_price'] <= 0\n",
        "print(mask1.sum())\n",
        "df_p.loc[mask1, 'selling_price'] = np.nan\n",
        "\n",
        "mask1 = df_p['quantity tons'] <= 0\n",
        "print(mask1.sum())\n",
        "df_p.loc[mask1, 'quantity tons'] = np.nan\n",
        "\n",
        "mask1 = df_p['thickness'] <= 0\n",
        "print(mask1.sum())"
      ],
      "metadata": {
        "colab": {
          "base_uri": "https://localhost:8080/"
        },
        "id": "Htk0SOUvUSFy",
        "outputId": "5da26940-6eca-422c-f130-b826a5a7cae0"
      },
      "execution_count": null,
      "outputs": [
        {
          "output_type": "stream",
          "name": "stdout",
          "text": [
            "6\n",
            "0\n",
            "0\n"
          ]
        }
      ]
    },
    {
      "cell_type": "code",
      "source": [
        "df_p.isnull().sum()"
      ],
      "metadata": {
        "colab": {
          "base_uri": "https://localhost:8080/"
        },
        "id": "fg7rQfw7UU9p",
        "outputId": "24a186f5-14cc-47da-fd84-dc3a600e72c4"
      },
      "execution_count": null,
      "outputs": [
        {
          "output_type": "execute_result",
          "data": {
            "text/plain": [
              "id               0\n",
              "item_date        0\n",
              "quantity tons    0\n",
              "customer         0\n",
              "country          0\n",
              "status           0\n",
              "item type        0\n",
              "application      0\n",
              "thickness        0\n",
              "width            0\n",
              "material_ref     0\n",
              "product_ref      0\n",
              "delivery date    0\n",
              "selling_price    6\n",
              "dtype: int64"
            ]
          },
          "metadata": {},
          "execution_count": 13
        }
      ]
    },
    {
      "cell_type": "code",
      "source": [
        "df_p.dropna(inplace=True)\n",
        "len(df_p)"
      ],
      "metadata": {
        "colab": {
          "base_uri": "https://localhost:8080/"
        },
        "id": "nGDgErG4UYhy",
        "outputId": "31a13824-63ca-4dd0-c7e7-5d860aa58eec"
      },
      "execution_count": null,
      "outputs": [
        {
          "output_type": "execute_result",
          "data": {
            "text/plain": [
              "75622"
            ]
          },
          "metadata": {},
          "execution_count": 14
        }
      ]
    },
    {
      "cell_type": "code",
      "source": [
        "import numpy as np\n",
        "df_p['selling_price_log'] = np.log(df_p['selling_price'])\n",
        "sns.distplot(df_p['selling_price_log'])\n",
        "plt.show()\n",
        "\n",
        "df_p['quantity tons_log'] = np.log(df_p['quantity tons'])\n",
        "sns.distplot(df_p['quantity tons_log'])\n",
        "plt.show()\n",
        "\n",
        "df_p['thickness_log'] = np.log(df_p['thickness'])\n",
        "sns.distplot(df_p['thickness_log'])\n",
        "plt.show()\n",
        "# reverts log\n",
        "# df_p['reverted_values'] = np.exp(df_p['selling_price_log'])\n",
        "# sns.distplot(df_p['reverted_values'])\n",
        "# plt.show()"
      ],
      "metadata": {
        "colab": {
          "base_uri": "https://localhost:8080/",
          "height": 1000
        },
        "id": "vQKfxg4TUZhM",
        "outputId": "18a9f4f2-7f5b-48a9-adc8-44e790d3d3d1"
      },
      "execution_count": null,
      "outputs": [
        {
          "output_type": "display_data",
          "data": {
            "text/plain": [
              "<Figure size 640x480 with 1 Axes>"
            ],
            "image/png": "[encoded data removed]"
          },
          "metadata": {}
        },
        {
          "output_type": "display_data",
          "data": {
            "text/plain": [
              "<Figure size 640x480 with 1 Axes>"
            ],
            "image/png": "[encoded data removed]"
          },
          "metadata": {}
        },
        {
          "output_type": "display_data",
          "data": {
            "text/plain": [
              "<Figure size 640x480 with 1 Axes>"
            ],
            "image/png": "[encoded data removed]"
          },
          "metadata": {}
        }
      ]
    },
    {
      "cell_type": "code",
      "source": [
        "df_p.head()"
      ],
      "metadata": {
        "colab": {
          "base_uri": "https://localhost:8080/",
          "height": 487
        },
        "id": "GM0_mx8qUfbc",
        "outputId": "a093f65a-4ed0-4cb6-8b20-7b73825804a4"
      },
      "execution_count": null,
      "outputs": [
        {
          "output_type": "execute_result",
          "data": {
            "text/plain": [
              "                                     id   item_date  quantity tons  \\\n",
              "0  EC06F063-9DF0-440C-8764-0B0C05A4F6AE  2021-04-01      54.151139   \n",
              "1  4E5F4B3D-DDDF-499D-AFDE-A3227EC49425  2021-04-01     768.024839   \n",
              "2  E140FF1B-2407-4C02-A0DD-780A093B1158  2021-04-01     386.127949   \n",
              "3  F8D507A0-9C62-4EFE-831E-33E1DA53BB50  2021-04-01     202.411065   \n",
              "4  4E1C4E78-152B-430A-8094-ADD889C9D0AD  2021-04-01     785.526262   \n",
              "\n",
              "     customer  country status item type  application  thickness   width  \\\n",
              "0  30156308.0     28.0    Won         W         10.0       2.00  1500.0   \n",
              "1  30202938.0     25.0    Won         W         41.0       0.80  1210.0   \n",
              "2  30153963.0     30.0    Won        WI         28.0       0.38   952.0   \n",
              "3  30349574.0     32.0    Won         S         59.0       2.30  1317.0   \n",
              "4  30211560.0     28.0    Won         W         10.0       4.00  2000.0   \n",
              "\n",
              "              material_ref   product_ref delivery date  selling_price  \\\n",
              "0              DEQ1 S460MC  1.670799e+09    2021-07-01         854.00   \n",
              "1                   104991  1.668702e+09    2021-04-01        1047.00   \n",
              "2                 S0380700  6.283770e+05    2021-01-01         644.33   \n",
              "3  DX51D+ZM310MAO 2.3X1317  1.668702e+09    2021-01-01         768.00   \n",
              "4          2_S275JR+AR-CL1  6.406650e+05    2021-03-01         577.00   \n",
              "\n",
              "   selling_price_log  quantity tons_log  thickness_log  \n",
              "0           6.749931           3.991779       0.693147  \n",
              "1           6.953684           6.643822      -0.223144  \n",
              "2           6.468211           5.956169      -0.967584  \n",
              "3           6.643790           5.310301       0.832909  \n",
              "4           6.357842           6.666354       1.386294  "
            ],
            "text/html": [
              "\n",
              "  <div id=\"df-b76582e8-6446-4173-9245-331a7f2bc0db\" class=\"colab-df-container\">\n",
              "    <div>\n",
              "<style scoped>\n",
              "    .dataframe tbody tr th:only-of-type {\n",
              "        vertical-align: middle;\n",
              "    }\n",
              "\n",
              "    .dataframe tbody tr th {\n",
              "        vertical-align: top;\n",
              "    }\n",
              "\n",
              "    .dataframe thead th {\n",
              "        text-align: right;\n",
              "    }\n",
              "</style>\n",
              "<table border=\"1\" class=\"dataframe\">\n",
              "  <thead>\n",
              "    <tr style=\"text-align: right;\">\n",
              "      <th></th>\n",
              "      <th>id</th>\n",
              "      <th>item_date</th>\n",
              "      <th>quantity tons</th>\n",
              "      <th>customer</th>\n",
              "      <th>country</th>\n",
              "      <th>status</th>\n",
              "      <th>item type</th>\n",
              "      <th>application</th>\n",
              "      <th>thickness</th>\n",
              "      <th>width</th>\n",
              "      <th>material_ref</th>\n",
              "      <th>product_ref</th>\n",
              "      <th>delivery date</th>\n",
              "      <th>selling_price</th>\n",
              "      <th>selling_price_log</th>\n",
              "      <th>quantity tons_log</th>\n",
              "      <th>thickness_log</th>\n",
              "    </tr>\n",
              "  </thead>\n",
              "  <tbody>\n",
              "    <tr>\n",
              "      <th>0</th>\n",
              "      <td>EC06F063-9DF0-440C-8764-0B0C05A4F6AE</td>\n",
              "      <td>2021-04-01</td>\n",
              "      <td>54.151139</td>\n",
              "      <td>30156308.0</td>\n",
              "      <td>28.0</td>\n",
              "      <td>Won</td>\n",
              "      <td>W</td>\n",
              "      <td>10.0</td>\n",
              "      <td>2.00</td>\n",
              "      <td>1500.0</td>\n",
              "      <td>DEQ1 S460MC</td>\n",
              "      <td>1.670799e+09</td>\n",
              "      <td>2021-07-01</td>\n",
              "      <td>854.00</td>\n",
              "      <td>6.749931</td>\n",
              "      <td>3.991779</td>\n",
              "      <td>0.693147</td>\n",
              "    </tr>\n",
              "    <tr>\n",
              "      <th>1</th>\n",
              "      <td>4E5F4B3D-DDDF-499D-AFDE-A3227EC49425</td>\n",
              "      <td>2021-04-01</td>\n",
              "      <td>768.024839</td>\n",
              "      <td>30202938.0</td>\n",
              "      <td>25.0</td>\n",
              "      <td>Won</td>\n",
              "      <td>W</td>\n",
              "      <td>41.0</td>\n",
              "      <td>0.80</td>\n",
              "      <td>1210.0</td>\n",
              "      <td>104991</td>\n",
              "      <td>1.668702e+09</td>\n",
              "      <td>2021-04-01</td>\n",
              "      <td>1047.00</td>\n",
              "      <td>6.953684</td>\n",
              "      <td>6.643822</td>\n",
              "      <td>-0.223144</td>\n",
              "    </tr>\n",
              "    <tr>\n",
              "      <th>2</th>\n",
              "      <td>E140FF1B-2407-4C02-A0DD-780A093B1158</td>\n",
              "      <td>2021-04-01</td>\n",
              "      <td>386.127949</td>\n",
              "      <td>30153963.0</td>\n",
              "      <td>30.0</td>\n",
              "      <td>Won</td>\n",
              "      <td>WI</td>\n",
              "      <td>28.0</td>\n",
              "      <td>0.38</td>\n",
              "      <td>952.0</td>\n",
              "      <td>S0380700</td>\n",
              "      <td>6.283770e+05</td>\n",
              "      <td>2021-01-01</td>\n",
              "      <td>644.33</td>\n",
              "      <td>6.468211</td>\n",
              "      <td>5.956169</td>\n",
              "      <td>-0.967584</td>\n",
              "    </tr>\n",
              "    <tr>\n",
              "      <th>3</th>\n",
              "      <td>F8D507A0-9C62-4EFE-831E-33E1DA53BB50</td>\n",
              "      <td>2021-04-01</td>\n",
              "      <td>202.411065</td>\n",
              "      <td>30349574.0</td>\n",
              "      <td>32.0</td>\n",
              "      <td>Won</td>\n",
              "      <td>S</td>\n",
              "      <td>59.0</td>\n",
              "      <td>2.30</td>\n",
              "      <td>1317.0</td>\n",
              "      <td>DX51D+ZM310MAO 2.3X1317</td>\n",
              "      <td>1.668702e+09</td>\n",
              "      <td>2021-01-01</td>\n",
              "      <td>768.00</td>\n",
              "      <td>6.643790</td>\n",
              "      <td>5.310301</td>\n",
              "      <td>0.832909</td>\n",
              "    </tr>\n",
              "    <tr>\n",
              "      <th>4</th>\n",
              "      <td>4E1C4E78-152B-430A-8094-ADD889C9D0AD</td>\n",
              "      <td>2021-04-01</td>\n",
              "      <td>785.526262</td>\n",
              "      <td>30211560.0</td>\n",
              "      <td>28.0</td>\n",
              "      <td>Won</td>\n",
              "      <td>W</td>\n",
              "      <td>10.0</td>\n",
              "      <td>4.00</td>\n",
              "      <td>2000.0</td>\n",
              "      <td>2_S275JR+AR-CL1</td>\n",
              "      <td>6.406650e+05</td>\n",
              "      <td>2021-03-01</td>\n",
              "      <td>577.00</td>\n",
              "      <td>6.357842</td>\n",
              "      <td>6.666354</td>\n",
              "      <td>1.386294</td>\n",
              "    </tr>\n",
              "  </tbody>\n",
              "</table>\n",
              "</div>\n",
              "    <div class=\"colab-df-buttons\">\n",
              "\n",
              "  <div class=\"colab-df-container\">\n",
              "    <button class=\"colab-df-convert\" onclick=\"convertToInteractive('df-b76582e8-6446-4173-9245-331a7f2bc0db')\"\n",
              "            title=\"Convert this dataframe to an interactive table.\"\n",
              "            style=\"display:none;\">\n",
              "\n",
              "  <svg xmlns=\"http://www.w3.org/2000/svg\" height=\"24px\" viewBox=\"0 -960 960 960\">\n",
              "    <path d=\"M120-120v-720h720v720H120Zm60-500h600v-160H180v160Zm220 220h160v-160H400v160Zm0 220h160v-160H400v160ZM180-400h160v-160H180v160Zm440 0h160v-160H620v160ZM180-180h160v-160H180v160Zm440 0h160v-160H620v160Z\"/>\n",
              "  </svg>\n",
              "    </button>\n",
              "\n",
              "  <style>\n",
              "    .colab-df-container {\n",
              "      display:flex;\n",
              "      gap: 12px;\n",
              "    }\n",
              "\n",
              "    .colab-df-convert {\n",
              "      background-color: #E8F0FE;\n",
              "      border: none;\n",
              "      border-radius: 50%;\n",
              "      cursor: pointer;\n",
              "      display: none;\n",
              "      fill: #1967D2;\n",
              "      height: 32px;\n",
              "      padding: 0 0 0 0;\n",
              "      width: 32px;\n",
              "    }\n",
              "\n",
              "    .colab-df-convert:hover {\n",
              "      background-color: #E2EBFA;\n",
              "      box-shadow: 0px 1px 2px rgba(60, 64, 67, 0.3), 0px 1px 3px 1px rgba(60, 64, 67, 0.15);\n",
              "      fill: #174EA6;\n",
              "    }\n",
              "\n",
              "    .colab-df-buttons div {\n",
              "      margin-bottom: 4px;\n",
              "    }\n",
              "\n",
              "    [theme=dark] .colab-df-convert {\n",
              "      background-color: #3B4455;\n",
              "      fill: #D2E3FC;\n",
              "    }\n",
              "\n",
              "    [theme=dark] .colab-df-convert:hover {\n",
              "      background-color: #434B5C;\n",
              "      box-shadow: 0px 1px 3px 1px rgba(0, 0, 0, 0.15);\n",
              "      filter: drop-shadow(0px 1px 2px rgba(0, 0, 0, 0.3));\n",
              "      fill: #FFFFFF;\n",
              "    }\n",
              "  </style>\n",
              "\n",
              "    <script>\n",
              "      const buttonEl =\n",
              "        document.querySelector('#df-b76582e8-6446-4173-9245-331a7f2bc0db button.colab-df-convert');\n",
              "      buttonEl.style.display =\n",
              "        google.colab.kernel.accessAllowed ? 'block' : 'none';\n",
              "\n",
              "      async function convertToInteractive(key) {\n",
              "        const element = document.querySelector('#df-b76582e8-6446-4173-9245-331a7f2bc0db');\n",
              "        const dataTable =\n",
              "          await google.colab.kernel.invokeFunction('convertToInteractive',\n",
              "                                                    [key], {});\n",
              "        if (!dataTable) return;\n",
              "\n",
              "        const docLinkHtml = 'Like what you see? Visit the ' +\n",
              "          '<a target=\"_blank\" href=https://colab.research.google.com/notebooks/data_table.ipynb>data table notebook</a>'\n",
              "          + ' to learn more about interactive tables.';\n",
              "        element.innerHTML = '';\n",
              "        dataTable['output_type'] = 'display_data';\n",
              "        await google.colab.output.renderOutput(dataTable, element);\n",
              "        const docLink = document.createElement('div');\n",
              "        docLink.innerHTML = docLinkHtml;\n",
              "        element.appendChild(docLink);\n",
              "      }\n",
              "    </script>\n",
              "  </div>\n",
              "\n",
              "\n",
              "<div id=\"df-cb42495b-2768-4751-8d95-9e56ccf7a80c\">\n",
              "  <button class=\"colab-df-quickchart\" onclick=\"quickchart('df-cb42495b-2768-4751-8d95-9e56ccf7a80c')\"\n",
              "            title=\"Suggest charts\"\n",
              "            style=\"display:none;\">\n",
              "\n",
              "<svg xmlns=\"http://www.w3.org/2000/svg\" height=\"24px\"viewBox=\"0 0 24 24\"\n",
              "     width=\"24px\">\n",
              "    <g>\n",
              "        <path d=\"M19 3H5c-1.1 0-2 .9-2 2v14c0 1.1.9 2 2 2h14c1.1 0 2-.9 2-2V5c0-1.1-.9-2-2-2zM9 17H7v-7h2v7zm4 0h-2V7h2v10zm4 0h-2v-4h2v4z\"/>\n",
              "    </g>\n",
              "</svg>\n",
              "  </button>\n",
              "\n",
              "<style>\n",
              "  .colab-df-quickchart {\n",
              "      --bg-color: #E8F0FE;\n",
              "      --fill-color: #1967D2;\n",
              "      --hover-bg-color: #E2EBFA;\n",
              "      --hover-fill-color: #174EA6;\n",
              "      --disabled-fill-color: #AAA;\n",
              "      --disabled-bg-color: #DDD;\n",
              "  }\n",
              "\n",
              "  [theme=dark] .colab-df-quickchart {\n",
              "      --bg-color: #3B4455;\n",
              "      --fill-color: #D2E3FC;\n",
              "      --hover-bg-color: #434B5C;\n",
              "      --hover-fill-color: #FFFFFF;\n",
              "      --disabled-bg-color: #3B4455;\n",
              "      --disabled-fill-color: #666;\n",
              "  }\n",
              "\n",
              "  .colab-df-quickchart {\n",
              "    background-color: var(--bg-color);\n",
              "    border: none;\n",
              "    border-radius: 50%;\n",
              "    cursor: pointer;\n",
              "    display: none;\n",
              "    fill: var(--fill-color);\n",
              "    height: 32px;\n",
              "    padding: 0;\n",
              "    width: 32px;\n",
              "  }\n",
              "\n",
              "  .colab-df-quickchart:hover {\n",
              "    background-color: var(--hover-bg-color);\n",
              "    box-shadow: 0 1px 2px rgba(60, 64, 67, 0.3), 0 1px 3px 1px rgba(60, 64, 67, 0.15);\n",
              "    fill: var(--button-hover-fill-color);\n",
              "  }\n",
              "\n",
              "  .colab-df-quickchart-complete:disabled,\n",
              "  .colab-df-quickchart-complete:disabled:hover {\n",
              "    background-color: var(--disabled-bg-color);\n",
              "    fill: var(--disabled-fill-color);\n",
              "    box-shadow: none;\n",
              "  }\n",
              "\n",
              "  .colab-df-spinner {\n",
              "    border: 2px solid var(--fill-color);\n",
              "    border-color: transparent;\n",
              "    border-bottom-color: var(--fill-color);\n",
              "    animation:\n",
              "      spin 1s steps(1) infinite;\n",
              "  }\n",
              "\n",
              "  @keyframes spin {\n",
              "    0% {\n",
              "      border-color: transparent;\n",
              "      border-bottom-color: var(--fill-color);\n",
              "      border-left-color: var(--fill-color);\n",
              "    }\n",
              "    20% {\n",
              "      border-color: transparent;\n",
              "      border-left-color: var(--fill-color);\n",
              "      border-top-color: var(--fill-color);\n",
              "    }\n",
              "    30% {\n",
              "      border-color: transparent;\n",
              "      border-left-color: var(--fill-color);\n",
              "      border-top-color: var(--fill-color);\n",
              "      border-right-color: var(--fill-color);\n",
              "    }\n",
              "    40% {\n",
              "      border-color: transparent;\n",
              "      border-right-color: var(--fill-color);\n",
              "      border-top-color: var(--fill-color);\n",
              "    }\n",
              "    60% {\n",
              "      border-color: transparent;\n",
              "      border-right-color: var(--fill-color);\n",
              "    }\n",
              "    80% {\n",
              "      border-color: transparent;\n",
              "      border-right-color: var(--fill-color);\n",
              "      border-bottom-color: var(--fill-color);\n",
              "    }\n",
              "    90% {\n",
              "      border-color: transparent;\n",
              "      border-bottom-color: var(--fill-color);\n",
              "    }\n",
              "  }\n",
              "</style>\n",
              "\n",
              "  <script>\n",
              "    async function quickchart(key) {\n",
              "      const quickchartButtonEl =\n",
              "        document.querySelector('#' + key + ' button');\n",
              "      quickchartButtonEl.disabled = true;  // To prevent multiple clicks.\n",
              "      quickchartButtonEl.classList.add('colab-df-spinner');\n",
              "      try {\n",
              "        const charts = await google.colab.kernel.invokeFunction(\n",
              "            'suggestCharts', [key], {});\n",
              "      } catch (error) {\n",
              "        console.error('Error during call to suggestCharts:', error);\n",
              "      }\n",
              "      quickchartButtonEl.classList.remove('colab-df-spinner');\n",
              "      quickchartButtonEl.classList.add('colab-df-quickchart-complete');\n",
              "    }\n",
              "    (() => {\n",
              "      let quickchartButtonEl =\n",
              "        document.querySelector('#df-cb42495b-2768-4751-8d95-9e56ccf7a80c button');\n",
              "      quickchartButtonEl.style.display =\n",
              "        google.colab.kernel.accessAllowed ? 'block' : 'none';\n",
              "    })();\n",
              "  </script>\n",
              "</div>\n",
              "\n",
              "    </div>\n",
              "  </div>\n"
            ],
            "application/vnd.google.colaboratory.intrinsic+json": {
              "type": "dataframe",
              "variable_name": "df_p",
              "summary": "{\n  \"name\": \"df_p\",\n  \"rows\": 75622,\n  \"fields\": [\n    {\n      \"column\": \"id\",\n      \"properties\": {\n        \"dtype\": \"string\",\n        \"num_unique_values\": 75622,\n        \"samples\": [\n          \"F2DF77C7-970E-498D-B13F-744428C63C82\",\n          \"6E11A02F-64EE-4221-A68B-837078D7B86F\",\n          \"4D13CE5D-8923-471B-9B18-C52E7E72FE4B\"\n        ],\n        \"semantic_type\": \"\",\n        \"description\": \"\"\n      }\n    },\n    {\n      \"column\": \"item_date\",\n      \"properties\": {\n        \"dtype\": \"date\",\n        \"min\": \"2020-12-15\",\n        \"max\": \"2021-04-01\",\n        \"num_unique_values\": 100,\n        \"samples\": [\n          \"2021-01-04\",\n          \"2021-02-04\",\n          \"2021-01-17\"\n        ],\n        \"semantic_type\": \"\",\n        \"description\": \"\"\n      }\n    },\n    {\n      \"column\": \"quantity tons\",\n      \"properties\": {\n        \"dtype\": \"number\",\n        \"std\": 405.01763741991067,\n        \"min\": 0.001867762818,\n        \"max\": 24000.32336,\n        \"num_unique_values\": 75622,\n        \"samples\": [\n          255.9977218,\n          120.5984936,\n          9.453742509\n        ],\n        \"semantic_type\": \"\",\n        \"description\": \"\"\n      }\n    },\n    {\n      \"column\": \"customer\",\n      \"properties\": {\n        \"dtype\": \"number\",\n        \"std\": 130910.35484332664,\n        \"min\": 12458.0,\n        \"max\": 30408185.0,\n        \"num_unique_values\": 984,\n        \"samples\": [\n          30200964.0,\n          30345494.0,\n          30201866.0\n        ],\n        \"semantic_type\": \"\",\n        \"description\": \"\"\n      }\n    },\n    {\n      \"column\": \"country\",\n      \"properties\": {\n        \"dtype\": \"number\",\n        \"std\": 24.060022741306156,\n        \"min\": 25.0,\n        \"max\": 113.0,\n        \"num_unique_values\": 17,\n        \"samples\": [\n          28.0,\n          25.0,\n          78.0\n        ],\n        \"semantic_type\": \"\",\n        \"description\": \"\"\n      }\n    },\n    {\n      \"column\": \"status\",\n      \"properties\": {\n        \"dtype\": \"category\",\n        \"num_unique_values\": 9,\n        \"samples\": [\n          \"Offered\",\n          \"Draft\",\n          \"Wonderful\"\n        ],\n        \"semantic_type\": \"\",\n        \"description\": \"\"\n      }\n    },\n    {\n      \"column\": \"item type\",\n      \"properties\": {\n        \"dtype\": \"category\",\n        \"num_unique_values\": 7,\n        \"samples\": [\n          \"W\",\n          \"WI\",\n          \"IPL\"\n        ],\n        \"semantic_type\": \"\",\n        \"description\": \"\"\n      }\n    },\n    {\n      \"column\": \"application\",\n      \"properties\": {\n        \"dtype\": \"number\",\n        \"std\": 17.405700621607913,\n        \"min\": 2.0,\n        \"max\": 99.0,\n        \"num_unique_values\": 30,\n        \"samples\": [\n          65.0,\n          22.0,\n          5.0\n        ],\n        \"semantic_type\": \"\",\n        \"description\": \"\"\n      }\n    },\n    {\n      \"column\": \"thickness\",\n      \"properties\": {\n        \"dtype\": \"number\",\n        \"std\": 3.0869954958757675,\n        \"min\": 0.18,\n        \"max\": 400.0,\n        \"num_unique_values\": 483,\n        \"samples\": [\n          4.04,\n          8.05,\n          1.99\n        ],\n        \"semantic_type\": \"\",\n        \"description\": \"\"\n      }\n    },\n    {\n      \"column\": \"width\",\n      \"properties\": {\n        \"dtype\": \"number\",\n        \"std\": 254.9244685052338,\n        \"min\": 1.0,\n        \"max\": 2990.0,\n        \"num_unique_values\": 1168,\n        \"samples\": [\n          1069.0,\n          589.0,\n          1285.0\n        ],\n        \"semantic_type\": \"\",\n        \"description\": \"\"\n      }\n    },\n    {\n      \"column\": \"material_ref\",\n      \"properties\": {\n        \"dtype\": \"category\",\n        \"num_unique_values\": 11520,\n        \"samples\": [\n          \"NASTLAMRC51220\",\n          \"8601887\",\n          \"DC01 EKO 2.2\"\n        ],\n        \"semantic_type\": \"\",\n        \"description\": \"\"\n      }\n    },\n    {\n      \"column\": \"product_ref\",\n      \"properties\": {\n        \"dtype\": \"number\",\n        \"std\": 738335080.8943759,\n        \"min\": 611728.0,\n        \"max\": 1722207579.0,\n        \"num_unique_values\": 30,\n        \"samples\": [\n          1690738219.0,\n          1690738206.0,\n          611728.0\n        ],\n        \"semantic_type\": \"\",\n        \"description\": \"\"\n      }\n    },\n    {\n      \"column\": \"delivery date\",\n      \"properties\": {\n        \"dtype\": \"date\",\n        \"min\": \"2019-04-01\",\n        \"max\": \"2022-01-01\",\n        \"num_unique_values\": 23,\n        \"samples\": [\n          \"2021-12-01\",\n          \"2021-11-01\",\n          \"2021-07-01\"\n        ],\n        \"semantic_type\": \"\",\n        \"description\": \"\"\n      }\n    },\n    {\n      \"column\": \"selling_price\",\n      \"properties\": {\n        \"dtype\": \"number\",\n        \"std\": 514266.5038260479,\n        \"min\": 0.1,\n        \"max\": 100001015.0,\n        \"num_unique_values\": 4683,\n        \"samples\": [\n          841.33,\n          1177.66,\n          921.6\n        ],\n        \"semantic_type\": \"\",\n        \"description\": \"\"\n      }\n    },\n    {\n      \"column\": \"selling_price_log\",\n      \"properties\": {\n        \"dtype\": \"number\",\n        \"std\": 0.6516268145865898,\n        \"min\": -2.3025850929940455,\n        \"max\": 18.420690893900854,\n        \"num_unique_values\": 4683,\n        \"samples\": [\n          6.734983973020011,\n          7.0712846977636055,\n          6.826111289941627\n        ],\n        \"semantic_type\": \"\",\n        \"description\": \"\"\n      }\n    },\n    {\n      \"column\": \"quantity tons_log\",\n      \"properties\": {\n        \"dtype\": \"number\",\n        \"std\": 1.4710724130656745,\n        \"min\": -6.2830139183290745,\n        \"max\": 10.085822582572652,\n        \"num_unique_values\": 75622,\n        \"samples\": [\n          5.545168545221214,\n          4.792466793336135,\n          2.2464106958038137\n        ],\n        \"semantic_type\": \"\",\n        \"description\": \"\"\n      }\n    },\n    {\n      \"column\": \"thickness_log\",\n      \"properties\": {\n        \"dtype\": \"number\",\n        \"std\": 0.9290840716241551,\n        \"min\": -1.7147984280919266,\n        \"max\": 5.991464547107982,\n        \"num_unique_values\": 483,\n        \"samples\": [\n          1.3962446919730587,\n          2.0856720914304723,\n          0.688134638736401\n        ],\n        \"semantic_type\": \"\",\n        \"description\": \"\"\n      }\n    }\n  ]\n}"
            }
          },
          "metadata": {},
          "execution_count": 16
        }
      ]
    },
    {
      "cell_type": "code",
      "source": [
        "x=df_p[['quantity tons_log','application','thickness_log','width','selling_price_log','country','customer','product_ref']].corr()\n",
        "sns.heatmap(x, annot=True, cmap=\"YlGnBu\")"
      ],
      "metadata": {
        "colab": {
          "base_uri": "https://localhost:8080/",
          "height": 560
        },
        "id": "2TlgVGanUib5",
        "outputId": "e4c5a0c9-445f-4d90-bc69-c4b817a41758"
      },
      "execution_count": null,
      "outputs": [
        {
          "output_type": "execute_result",
          "data": {
            "text/plain": [
              "<Axes: >"
            ]
          },
          "metadata": {},
          "execution_count": 17
        },
        {
          "output_type": "display_data",
          "data": {
            "text/plain": [
              "<Figure size 640x480 with 2 Axes>"
            ],
            "image/png": "[encoded data removed]"
          },
          "metadata": {}
        }
      ]
    },
    {
      "cell_type": "markdown",
      "source": [
        "DECISION TREE REGRESSOR\n",
        "Encode categorical features\n",
        "\n",
        "Test and Train split\n",
        "\n",
        "Define Hyperparameters for GridSearchCV\n",
        "\n",
        "Train the DecisionTreeRegressor with best parameters\n",
        "\n",
        "Evalution metrics\n",
        "\n",
        "Predict the selling price for new values\n",
        "\n",
        "Save the DecisionTreeRegressor model"
      ],
      "metadata": {
        "id": "6GnM6H5FU03k"
      }
    },
    {
      "cell_type": "code",
      "source": [
        "import pandas as pd\n",
        "import numpy as np\n",
        "from sklearn.model_selection import train_test_split\n",
        "from sklearn.tree import DecisionTreeRegressor\n",
        "from sklearn.preprocessing import StandardScaler, OneHotEncoder\n",
        "from sklearn.metrics import mean_squared_error, r2_score\n",
        "from sklearn.model_selection import GridSearchCV\n",
        "\n",
        "X=df_p[['quantity tons_log','status','item type','application','thickness_log','width','country','customer','product_ref']]\n",
        "y=df_p['selling_price_log']\n",
        "# encoding categorical variables\n",
        "ohe = OneHotEncoder(handle_unknown='ignore')\n",
        "ohe.fit(X[['item type']])\n",
        "X_ohe = ohe.fit_transform(X[['item type']]).toarray()\n",
        "ohe2 = OneHotEncoder(handle_unknown='ignore')\n",
        "ohe2.fit(X[['status']])\n",
        "X_be = ohe2.fit_transform(X[['status']]).toarray()\n",
        "# independent features after encoding\n",
        "X = np.concatenate((X[['quantity tons_log', 'application', 'thickness_log', 'width','country','customer','product_ref']].values, X_ohe, X_be), axis=1)\n",
        "scaler = StandardScaler()\n",
        "X = scaler.fit_transform(X)\n",
        "# test and train split\n",
        "X_train, X_test, y_train, y_test = train_test_split(X, y, test_size=0.1, random_state=42)\n",
        "# decision tree\n",
        "dtr = DecisionTreeRegressor()\n",
        "# hyperparameters\n",
        "param_grid = {'max_depth': [2, 5, 10, 20],\n",
        "              'min_samples_split': [2, 5, 10],\n",
        "              'min_samples_leaf': [1, 2, 4],\n",
        "              'max_features': ['auto', 'sqrt', 'log2']}\n",
        "# gridsearchcv\n",
        "grid_search = GridSearchCV(estimator=dtr, param_grid=param_grid, cv=5)\n",
        "grid_search.fit(X_train, y_train)\n",
        "print(\"Best hyperparameters:\", grid_search.best_params_)\n",
        "best_model = grid_search.best_estimator_\n",
        "y_pred = best_model.predict(X_test)\n",
        "# evalution metrics\n",
        "mse = mean_squared_error(y_test, y_pred)\n",
        "r2 = r2_score(y_test, y_pred)\n",
        "print('Mean squared error:', mse)\n",
        "print('R-squared:', r2)"
      ],
      "metadata": {
        "colab": {
          "base_uri": "https://localhost:8080/"
        },
        "id": "wmi6AoQeU9R9",
        "outputId": "e70d79fd-8a44-4cef-cce8-97c0a1d42c65"
      },
      "execution_count": null,
      "outputs": [
        {
          "output_type": "stream",
          "name": "stdout",
          "text": [
            "Best hyperparameters: {'max_depth': 20, 'max_features': 'auto', 'min_samples_leaf': 4, 'min_samples_split': 10}\n",
            "Mean squared error: 0.011690141120139374\n",
            "R-squared: 0.974125609250007\n"
          ]
        }
      ]
    },
    {
      "cell_type": "code",
      "source": [
        "# ['quantity tons_log', 'application', 'thickness_log', 'width','country','customer','product_ref']].values, X_ohe, X_be\n",
        "new_sample = np.array([[np.log(40), 10, np.log(250), 0, 28,30202938,1670798778,'PL','Won']])\n",
        "new_sample_ohe = ohe.transform(new_sample[:, [7]]).toarray()\n",
        "new_sample_be = ohe2.transform(new_sample[:, [8]]).toarray()\n",
        "new_sample = np.concatenate((new_sample[:, [0,1,2, 3, 4, 5, 6,]], new_sample_ohe, new_sample_be), axis=1)\n",
        "new_sample1 = scaler.transform(new_sample)\n",
        "new_pred = best_model.predict(new_sample1)\n",
        "print('Predicted selling price:', np.exp(new_pred))"
      ],
      "metadata": {
        "colab": {
          "base_uri": "https://localhost:8080/"
        },
        "id": "SmkULcnmVBa_",
        "outputId": "8d4ac330-c2f7-42ef-bb12-4755dc623a04"
      },
      "execution_count": null,
      "outputs": [
        {
          "output_type": "stream",
          "name": "stdout",
          "text": [
            "Predicted selling price: [657.9834646]\n"
          ]
        }
      ]
    },
    {
      "cell_type": "code",
      "source": [
        "# Saving the model\n",
        "import pickle\n",
        "with open('model.pkl', 'wb') as file:\n",
        "    pickle.dump(best_model, file)\n",
        "with open('scaler.pkl', 'wb') as f:\n",
        "    pickle.dump(scaler, f)\n",
        "with open('t.pkl', 'wb') as f:\n",
        "    pickle.dump(ohe, f)\n",
        "with open('s.pkl', 'wb') as f:\n",
        "    pickle.dump(ohe2, f)"
      ],
      "metadata": {
        "id": "Htk59VJlVEC9"
      },
      "execution_count": null,
      "outputs": []
    },
    {
      "cell_type": "code",
      "source": [
        "print(len(df_p))\n",
        "df_p.head(3)"
      ],
      "metadata": {
        "colab": {
          "base_uri": "https://localhost:8080/",
          "height": 355
        },
        "id": "UbM3e2AhVGvm",
        "outputId": "a6e4ed10-6e34-4606-c406-e8a2403fdb2e"
      },
      "execution_count": null,
      "outputs": [
        {
          "output_type": "stream",
          "name": "stdout",
          "text": [
            "75622\n"
          ]
        },
        {
          "output_type": "execute_result",
          "data": {
            "text/plain": [
              "                                     id   item_date  quantity tons  \\\n",
              "0  EC06F063-9DF0-440C-8764-0B0C05A4F6AE  2021-04-01      54.151139   \n",
              "1  4E5F4B3D-DDDF-499D-AFDE-A3227EC49425  2021-04-01     768.024839   \n",
              "2  E140FF1B-2407-4C02-A0DD-780A093B1158  2021-04-01     386.127949   \n",
              "\n",
              "     customer  country status item type  application  thickness   width  \\\n",
              "0  30156308.0     28.0    Won         W         10.0       2.00  1500.0   \n",
              "1  30202938.0     25.0    Won         W         41.0       0.80  1210.0   \n",
              "2  30153963.0     30.0    Won        WI         28.0       0.38   952.0   \n",
              "\n",
              "  material_ref   product_ref delivery date  selling_price  selling_price_log  \\\n",
              "0  DEQ1 S460MC  1.670799e+09    2021-07-01         854.00           6.749931   \n",
              "1       104991  1.668702e+09    2021-04-01        1047.00           6.953684   \n",
              "2     S0380700  6.283770e+05    2021-01-01         644.33           6.468211   \n",
              "\n",
              "   quantity tons_log  thickness_log  \n",
              "0           3.991779       0.693147  \n",
              "1           6.643822      -0.223144  \n",
              "2           5.956169      -0.967584  "
            ],
            "text/html": [
              "\n",
              "  <div id=\"df-79d8c971-2d26-4d8b-bde6-7377b79715f7\" class=\"colab-df-container\">\n",
              "    <div>\n",
              "<style scoped>\n",
              "    .dataframe tbody tr th:only-of-type {\n",
              "        vertical-align: middle;\n",
              "    }\n",
              "\n",
              "    .dataframe tbody tr th {\n",
              "        vertical-align: top;\n",
              "    }\n",
              "\n",
              "    .dataframe thead th {\n",
              "        text-align: right;\n",
              "    }\n",
              "</style>\n",
              "<table border=\"1\" class=\"dataframe\">\n",
              "  <thead>\n",
              "    <tr style=\"text-align: right;\">\n",
              "      <th></th>\n",
              "      <th>id</th>\n",
              "      <th>item_date</th>\n",
              "      <th>quantity tons</th>\n",
              "      <th>customer</th>\n",
              "      <th>country</th>\n",
              "      <th>status</th>\n",
              "      <th>item type</th>\n",
              "      <th>application</th>\n",
              "      <th>thickness</th>\n",
              "      <th>width</th>\n",
              "      <th>material_ref</th>\n",
              "      <th>product_ref</th>\n",
              "      <th>delivery date</th>\n",
              "      <th>selling_price</th>\n",
              "      <th>selling_price_log</th>\n",
              "      <th>quantity tons_log</th>\n",
              "      <th>thickness_log</th>\n",
              "    </tr>\n",
              "  </thead>\n",
              "  <tbody>\n",
              "    <tr>\n",
              "      <th>0</th>\n",
              "      <td>EC06F063-9DF0-440C-8764-0B0C05A4F6AE</td>\n",
              "      <td>2021-04-01</td>\n",
              "      <td>54.151139</td>\n",
              "      <td>30156308.0</td>\n",
              "      <td>28.0</td>\n",
              "      <td>Won</td>\n",
              "      <td>W</td>\n",
              "      <td>10.0</td>\n",
              "      <td>2.00</td>\n",
              "      <td>1500.0</td>\n",
              "      <td>DEQ1 S460MC</td>\n",
              "      <td>1.670799e+09</td>\n",
              "      <td>2021-07-01</td>\n",
              "      <td>854.00</td>\n",
              "      <td>6.749931</td>\n",
              "      <td>3.991779</td>\n",
              "      <td>0.693147</td>\n",
              "    </tr>\n",
              "    <tr>\n",
              "      <th>1</th>\n",
              "      <td>4E5F4B3D-DDDF-499D-AFDE-A3227EC49425</td>\n",
              "      <td>2021-04-01</td>\n",
              "      <td>768.024839</td>\n",
              "      <td>30202938.0</td>\n",
              "      <td>25.0</td>\n",
              "      <td>Won</td>\n",
              "      <td>W</td>\n",
              "      <td>41.0</td>\n",
              "      <td>0.80</td>\n",
              "      <td>1210.0</td>\n",
              "      <td>104991</td>\n",
              "      <td>1.668702e+09</td>\n",
              "      <td>2021-04-01</td>\n",
              "      <td>1047.00</td>\n",
              "      <td>6.953684</td>\n",
              "      <td>6.643822</td>\n",
              "      <td>-0.223144</td>\n",
              "    </tr>\n",
              "    <tr>\n",
              "      <th>2</th>\n",
              "      <td>E140FF1B-2407-4C02-A0DD-780A093B1158</td>\n",
              "      <td>2021-04-01</td>\n",
              "      <td>386.127949</td>\n",
              "      <td>30153963.0</td>\n",
              "      <td>30.0</td>\n",
              "      <td>Won</td>\n",
              "      <td>WI</td>\n",
              "      <td>28.0</td>\n",
              "      <td>0.38</td>\n",
              "      <td>952.0</td>\n",
              "      <td>S0380700</td>\n",
              "      <td>6.283770e+05</td>\n",
              "      <td>2021-01-01</td>\n",
              "      <td>644.33</td>\n",
              "      <td>6.468211</td>\n",
              "      <td>5.956169</td>\n",
              "      <td>-0.967584</td>\n",
              "    </tr>\n",
              "  </tbody>\n",
              "</table>\n",
              "</div>\n",
              "    <div class=\"colab-df-buttons\">\n",
              "\n",
              "  <div class=\"colab-df-container\">\n",
              "    <button class=\"colab-df-convert\" onclick=\"convertToInteractive('df-79d8c971-2d26-4d8b-bde6-7377b79715f7')\"\n",
              "            title=\"Convert this dataframe to an interactive table.\"\n",
              "            style=\"display:none;\">\n",
              "\n",
              "  <svg xmlns=\"http://www.w3.org/2000/svg\" height=\"24px\" viewBox=\"0 -960 960 960\">\n",
              "    <path d=\"M120-120v-720h720v720H120Zm60-500h600v-160H180v160Zm220 220h160v-160H400v160Zm0 220h160v-160H400v160ZM180-400h160v-160H180v160Zm440 0h160v-160H620v160ZM180-180h160v-160H180v160Zm440 0h160v-160H620v160Z\"/>\n",
              "  </svg>\n",
              "    </button>\n",
              "\n",
              "  <style>\n",
              "    .colab-df-container {\n",
              "      display:flex;\n",
              "      gap: 12px;\n",
              "    }\n",
              "\n",
              "    .colab-df-convert {\n",
              "      background-color: #E8F0FE;\n",
              "      border: none;\n",
              "      border-radius: 50%;\n",
              "      cursor: pointer;\n",
              "      display: none;\n",
              "      fill: #1967D2;\n",
              "      height: 32px;\n",
              "      padding: 0 0 0 0;\n",
              "      width: 32px;\n",
              "    }\n",
              "\n",
              "    .colab-df-convert:hover {\n",
              "      background-color: #E2EBFA;\n",
              "      box-shadow: 0px 1px 2px rgba(60, 64, 67, 0.3), 0px 1px 3px 1px rgba(60, 64, 67, 0.15);\n",
              "      fill: #174EA6;\n",
              "    }\n",
              "\n",
              "    .colab-df-buttons div {\n",
              "      margin-bottom: 4px;\n",
              "    }\n",
              "\n",
              "    [theme=dark] .colab-df-convert {\n",
              "      background-color: #3B4455;\n",
              "      fill: #D2E3FC;\n",
              "    }\n",
              "\n",
              "    [theme=dark] .colab-df-convert:hover {\n",
              "      background-color: #434B5C;\n",
              "      box-shadow: 0px 1px 3px 1px rgba(0, 0, 0, 0.15);\n",
              "      filter: drop-shadow(0px 1px 2px rgba(0, 0, 0, 0.3));\n",
              "      fill: #FFFFFF;\n",
              "    }\n",
              "  </style>\n",
              "\n",
              "    <script>\n",
              "      const buttonEl =\n",
              "        document.querySelector('#df-79d8c971-2d26-4d8b-bde6-7377b79715f7 button.colab-df-convert');\n",
              "      buttonEl.style.display =\n",
              "        google.colab.kernel.accessAllowed ? 'block' : 'none';\n",
              "\n",
              "      async function convertToInteractive(key) {\n",
              "        const element = document.querySelector('#df-79d8c971-2d26-4d8b-bde6-7377b79715f7');\n",
              "        const dataTable =\n",
              "          await google.colab.kernel.invokeFunction('convertToInteractive',\n",
              "                                                    [key], {});\n",
              "        if (!dataTable) return;\n",
              "\n",
              "        const docLinkHtml = 'Like what you see? Visit the ' +\n",
              "          '<a target=\"_blank\" href=https://colab.research.google.com/notebooks/data_table.ipynb>data table notebook</a>'\n",
              "          + ' to learn more about interactive tables.';\n",
              "        element.innerHTML = '';\n",
              "        dataTable['output_type'] = 'display_data';\n",
              "        await google.colab.output.renderOutput(dataTable, element);\n",
              "        const docLink = document.createElement('div');\n",
              "        docLink.innerHTML = docLinkHtml;\n",
              "        element.appendChild(docLink);\n",
              "      }\n",
              "    </script>\n",
              "  </div>\n",
              "\n",
              "\n",
              "<div id=\"df-a7a985b5-7bac-454f-96ed-9acba05b3c03\">\n",
              "  <button class=\"colab-df-quickchart\" onclick=\"quickchart('df-a7a985b5-7bac-454f-96ed-9acba05b3c03')\"\n",
              "            title=\"Suggest charts\"\n",
              "            style=\"display:none;\">\n",
              "\n",
              "<svg xmlns=\"http://www.w3.org/2000/svg\" height=\"24px\"viewBox=\"0 0 24 24\"\n",
              "     width=\"24px\">\n",
              "    <g>\n",
              "        <path d=\"M19 3H5c-1.1 0-2 .9-2 2v14c0 1.1.9 2 2 2h14c1.1 0 2-.9 2-2V5c0-1.1-.9-2-2-2zM9 17H7v-7h2v7zm4 0h-2V7h2v10zm4 0h-2v-4h2v4z\"/>\n",
              "    </g>\n",
              "</svg>\n",
              "  </button>\n",
              "\n",
              "<style>\n",
              "  .colab-df-quickchart {\n",
              "      --bg-color: #E8F0FE;\n",
              "      --fill-color: #1967D2;\n",
              "      --hover-bg-color: #E2EBFA;\n",
              "      --hover-fill-color: #174EA6;\n",
              "      --disabled-fill-color: #AAA;\n",
              "      --disabled-bg-color: #DDD;\n",
              "  }\n",
              "\n",
              "  [theme=dark] .colab-df-quickchart {\n",
              "      --bg-color: #3B4455;\n",
              "      --fill-color: #D2E3FC;\n",
              "      --hover-bg-color: #434B5C;\n",
              "      --hover-fill-color: #FFFFFF;\n",
              "      --disabled-bg-color: #3B4455;\n",
              "      --disabled-fill-color: #666;\n",
              "  }\n",
              "\n",
              "  .colab-df-quickchart {\n",
              "    background-color: var(--bg-color);\n",
              "    border: none;\n",
              "    border-radius: 50%;\n",
              "    cursor: pointer;\n",
              "    display: none;\n",
              "    fill: var(--fill-color);\n",
              "    height: 32px;\n",
              "    padding: 0;\n",
              "    width: 32px;\n",
              "  }\n",
              "\n",
              "  .colab-df-quickchart:hover {\n",
              "    background-color: var(--hover-bg-color);\n",
              "    box-shadow: 0 1px 2px rgba(60, 64, 67, 0.3), 0 1px 3px 1px rgba(60, 64, 67, 0.15);\n",
              "    fill: var(--button-hover-fill-color);\n",
              "  }\n",
              "\n",
              "  .colab-df-quickchart-complete:disabled,\n",
              "  .colab-df-quickchart-complete:disabled:hover {\n",
              "    background-color: var(--disabled-bg-color);\n",
              "    fill: var(--disabled-fill-color);\n",
              "    box-shadow: none;\n",
              "  }\n",
              "\n",
              "  .colab-df-spinner {\n",
              "    border: 2px solid var(--fill-color);\n",
              "    border-color: transparent;\n",
              "    border-bottom-color: var(--fill-color);\n",
              "    animation:\n",
              "      spin 1s steps(1) infinite;\n",
              "  }\n",
              "\n",
              "  @keyframes spin {\n",
              "    0% {\n",
              "      border-color: transparent;\n",
              "      border-bottom-color: var(--fill-color);\n",
              "      border-left-color: var(--fill-color);\n",
              "    }\n",
              "    20% {\n",
              "      border-color: transparent;\n",
              "      border-left-color: var(--fill-color);\n",
              "      border-top-color: var(--fill-color);\n",
              "    }\n",
              "    30% {\n",
              "      border-color: transparent;\n",
              "      border-left-color: var(--fill-color);\n",
              "      border-top-color: var(--fill-color);\n",
              "      border-right-color: var(--fill-color);\n",
              "    }\n",
              "    40% {\n",
              "      border-color: transparent;\n",
              "      border-right-color: var(--fill-color);\n",
              "      border-top-color: var(--fill-color);\n",
              "    }\n",
              "    60% {\n",
              "      border-color: transparent;\n",
              "      border-right-color: var(--fill-color);\n",
              "    }\n",
              "    80% {\n",
              "      border-color: transparent;\n",
              "      border-right-color: var(--fill-color);\n",
              "      border-bottom-color: var(--fill-color);\n",
              "    }\n",
              "    90% {\n",
              "      border-color: transparent;\n",
              "      border-bottom-color: var(--fill-color);\n",
              "    }\n",
              "  }\n",
              "</style>\n",
              "\n",
              "  <script>\n",
              "    async function quickchart(key) {\n",
              "      const quickchartButtonEl =\n",
              "        document.querySelector('#' + key + ' button');\n",
              "      quickchartButtonEl.disabled = true;  // To prevent multiple clicks.\n",
              "      quickchartButtonEl.classList.add('colab-df-spinner');\n",
              "      try {\n",
              "        const charts = await google.colab.kernel.invokeFunction(\n",
              "            'suggestCharts', [key], {});\n",
              "      } catch (error) {\n",
              "        console.error('Error during call to suggestCharts:', error);\n",
              "      }\n",
              "      quickchartButtonEl.classList.remove('colab-df-spinner');\n",
              "      quickchartButtonEl.classList.add('colab-df-quickchart-complete');\n",
              "    }\n",
              "    (() => {\n",
              "      let quickchartButtonEl =\n",
              "        document.querySelector('#df-a7a985b5-7bac-454f-96ed-9acba05b3c03 button');\n",
              "      quickchartButtonEl.style.display =\n",
              "        google.colab.kernel.accessAllowed ? 'block' : 'none';\n",
              "    })();\n",
              "  </script>\n",
              "</div>\n",
              "\n",
              "    </div>\n",
              "  </div>\n"
            ],
            "application/vnd.google.colaboratory.intrinsic+json": {
              "type": "dataframe",
              "variable_name": "df_p",
              "summary": "{\n  \"name\": \"df_p\",\n  \"rows\": 75622,\n  \"fields\": [\n    {\n      \"column\": \"id\",\n      \"properties\": {\n        \"dtype\": \"string\",\n        \"num_unique_values\": 75622,\n        \"samples\": [\n          \"F2DF77C7-970E-498D-B13F-744428C63C82\",\n          \"6E11A02F-64EE-4221-A68B-837078D7B86F\",\n          \"4D13CE5D-8923-471B-9B18-C52E7E72FE4B\"\n        ],\n        \"semantic_type\": \"\",\n        \"description\": \"\"\n      }\n    },\n    {\n      \"column\": \"item_date\",\n      \"properties\": {\n        \"dtype\": \"date\",\n        \"min\": \"2020-12-15\",\n        \"max\": \"2021-04-01\",\n        \"num_unique_values\": 100,\n        \"samples\": [\n          \"2021-01-04\",\n          \"2021-02-04\",\n          \"2021-01-17\"\n        ],\n        \"semantic_type\": \"\",\n        \"description\": \"\"\n      }\n    },\n    {\n      \"column\": \"quantity tons\",\n      \"properties\": {\n        \"dtype\": \"number\",\n        \"std\": 405.01763741991067,\n        \"min\": 0.001867762818,\n        \"max\": 24000.32336,\n        \"num_unique_values\": 75622,\n        \"samples\": [\n          255.9977218,\n          120.5984936,\n          9.453742509\n        ],\n        \"semantic_type\": \"\",\n        \"description\": \"\"\n      }\n    },\n    {\n      \"column\": \"customer\",\n      \"properties\": {\n        \"dtype\": \"number\",\n        \"std\": 130910.35484332664,\n        \"min\": 12458.0,\n        \"max\": 30408185.0,\n        \"num_unique_values\": 984,\n        \"samples\": [\n          30200964.0,\n          30345494.0,\n          30201866.0\n        ],\n        \"semantic_type\": \"\",\n        \"description\": \"\"\n      }\n    },\n    {\n      \"column\": \"country\",\n      \"properties\": {\n        \"dtype\": \"number\",\n        \"std\": 24.060022741306156,\n        \"min\": 25.0,\n        \"max\": 113.0,\n        \"num_unique_values\": 17,\n        \"samples\": [\n          28.0,\n          25.0,\n          78.0\n        ],\n        \"semantic_type\": \"\",\n        \"description\": \"\"\n      }\n    },\n    {\n      \"column\": \"status\",\n      \"properties\": {\n        \"dtype\": \"category\",\n        \"num_unique_values\": 9,\n        \"samples\": [\n          \"Offered\",\n          \"Draft\",\n          \"Wonderful\"\n        ],\n        \"semantic_type\": \"\",\n        \"description\": \"\"\n      }\n    },\n    {\n      \"column\": \"item type\",\n      \"properties\": {\n        \"dtype\": \"category\",\n        \"num_unique_values\": 7,\n        \"samples\": [\n          \"W\",\n          \"WI\",\n          \"IPL\"\n        ],\n        \"semantic_type\": \"\",\n        \"description\": \"\"\n      }\n    },\n    {\n      \"column\": \"application\",\n      \"properties\": {\n        \"dtype\": \"number\",\n        \"std\": 17.405700621607913,\n        \"min\": 2.0,\n        \"max\": 99.0,\n        \"num_unique_values\": 30,\n        \"samples\": [\n          65.0,\n          22.0,\n          5.0\n        ],\n        \"semantic_type\": \"\",\n        \"description\": \"\"\n      }\n    },\n    {\n      \"column\": \"thickness\",\n      \"properties\": {\n        \"dtype\": \"number\",\n        \"std\": 3.0869954958757675,\n        \"min\": 0.18,\n        \"max\": 400.0,\n        \"num_unique_values\": 483,\n        \"samples\": [\n          4.04,\n          8.05,\n          1.99\n        ],\n        \"semantic_type\": \"\",\n        \"description\": \"\"\n      }\n    },\n    {\n      \"column\": \"width\",\n      \"properties\": {\n        \"dtype\": \"number\",\n        \"std\": 254.9244685052338,\n        \"min\": 1.0,\n        \"max\": 2990.0,\n        \"num_unique_values\": 1168,\n        \"samples\": [\n          1069.0,\n          589.0,\n          1285.0\n        ],\n        \"semantic_type\": \"\",\n        \"description\": \"\"\n      }\n    },\n    {\n      \"column\": \"material_ref\",\n      \"properties\": {\n        \"dtype\": \"category\",\n        \"num_unique_values\": 11520,\n        \"samples\": [\n          \"NASTLAMRC51220\",\n          \"8601887\",\n          \"DC01 EKO 2.2\"\n        ],\n        \"semantic_type\": \"\",\n        \"description\": \"\"\n      }\n    },\n    {\n      \"column\": \"product_ref\",\n      \"properties\": {\n        \"dtype\": \"number\",\n        \"std\": 738335080.8943759,\n        \"min\": 611728.0,\n        \"max\": 1722207579.0,\n        \"num_unique_values\": 30,\n        \"samples\": [\n          1690738219.0,\n          1690738206.0,\n          611728.0\n        ],\n        \"semantic_type\": \"\",\n        \"description\": \"\"\n      }\n    },\n    {\n      \"column\": \"delivery date\",\n      \"properties\": {\n        \"dtype\": \"date\",\n        \"min\": \"2019-04-01\",\n        \"max\": \"2022-01-01\",\n        \"num_unique_values\": 23,\n        \"samples\": [\n          \"2021-12-01\",\n          \"2021-11-01\",\n          \"2021-07-01\"\n        ],\n        \"semantic_type\": \"\",\n        \"description\": \"\"\n      }\n    },\n    {\n      \"column\": \"selling_price\",\n      \"properties\": {\n        \"dtype\": \"number\",\n        \"std\": 514266.5038260479,\n        \"min\": 0.1,\n        \"max\": 100001015.0,\n        \"num_unique_values\": 4683,\n        \"samples\": [\n          841.33,\n          1177.66,\n          921.6\n        ],\n        \"semantic_type\": \"\",\n        \"description\": \"\"\n      }\n    },\n    {\n      \"column\": \"selling_price_log\",\n      \"properties\": {\n        \"dtype\": \"number\",\n        \"std\": 0.6516268145865898,\n        \"min\": -2.3025850929940455,\n        \"max\": 18.420690893900854,\n        \"num_unique_values\": 4683,\n        \"samples\": [\n          6.734983973020011,\n          7.0712846977636055,\n          6.826111289941627\n        ],\n        \"semantic_type\": \"\",\n        \"description\": \"\"\n      }\n    },\n    {\n      \"column\": \"quantity tons_log\",\n      \"properties\": {\n        \"dtype\": \"number\",\n        \"std\": 1.4710724130656745,\n        \"min\": -6.2830139183290745,\n        \"max\": 10.085822582572652,\n        \"num_unique_values\": 75622,\n        \"samples\": [\n          5.545168545221214,\n          4.792466793336135,\n          2.2464106958038137\n        ],\n        \"semantic_type\": \"\",\n        \"description\": \"\"\n      }\n    },\n    {\n      \"column\": \"thickness_log\",\n      \"properties\": {\n        \"dtype\": \"number\",\n        \"std\": 0.9290840716241551,\n        \"min\": -1.7147984280919266,\n        \"max\": 5.991464547107982,\n        \"num_unique_values\": 483,\n        \"samples\": [\n          1.3962446919730587,\n          2.0856720914304723,\n          0.688134638736401\n        ],\n        \"semantic_type\": \"\",\n        \"description\": \"\"\n      }\n    }\n  ]\n}"
            }
          },
          "metadata": {},
          "execution_count": 21
        }
      ]
    },
    {
      "cell_type": "code",
      "source": [
        "df_c = df_p[df_p['status'].isin(['Won', 'Lost'])]\n",
        "len(df_c)"
      ],
      "metadata": {
        "colab": {
          "base_uri": "https://localhost:8080/"
        },
        "id": "UcSzCY1_VMhq",
        "outputId": "c4201b8a-d9cb-4f46-d139-97227a008350"
      },
      "execution_count": null,
      "outputs": [
        {
          "output_type": "execute_result",
          "data": {
            "text/plain": [
              "62544"
            ]
          },
          "metadata": {},
          "execution_count": 22
        }
      ]
    },
    {
      "cell_type": "markdown",
      "source": [
        "DECISION TREE CLASSIFIER"
      ],
      "metadata": {
        "id": "rlqS58Frf_VQ"
      }
    },
    {
      "cell_type": "code",
      "source": [
        "from sklearn.tree import DecisionTreeClassifier\n",
        "from sklearn.model_selection import train_test_split\n",
        "from sklearn.metrics import accuracy_score, confusion_matrix\n",
        "from sklearn.preprocessing import StandardScaler, OneHotEncoder,LabelBinarizer\n",
        "\n",
        "Y = df_c['status']\n",
        "X= df_c[['quantity tons_log','selling_price_log','item type','application','thickness_log','width','country','customer','product_ref']]\n",
        "\n",
        "# encoding categorical variables\n",
        "ohe = OneHotEncoder(handle_unknown='ignore')\n",
        "ohe.fit(X[['item type']])\n",
        "X_ohe = ohe.fit_transform(X[['item type']]).toarray()\n",
        "be = LabelBinarizer()\n",
        "be.fit(Y)\n",
        "y = be.fit_transform(Y)\n",
        "# independent features after encoding\n",
        "X = np.concatenate((X[['quantity tons_log', 'selling_price_log','application', 'thickness_log', 'width','country','customer','product_ref']].values, X_ohe), axis=1)\n",
        "scaler = StandardScaler()\n",
        "X = scaler.fit_transform(X)\n",
        "\n",
        "X_train, X_test, y_train, y_test = train_test_split(X, y, test_size=0.2, random_state=42)\n",
        "# decision tree classifier\n",
        "dtc = DecisionTreeClassifier()\n",
        "dtc.fit(X_train, y_train)\n",
        "y_pred = dtc.predict(X_test)\n",
        "\n",
        "accuracy = accuracy_score(y_test, y_pred)\n",
        "print(f\"Accuracy: {accuracy}\")\n",
        "cm = confusion_matrix(y_test, y_pred)\n",
        "print(f\"Confusion Matrix:\\n{cm}\")"
      ],
      "metadata": {
        "colab": {
          "base_uri": "https://localhost:8080/"
        },
        "id": "HFrT5HF4VVCB",
        "outputId": "6696e36f-5f59-4a60-c197-66a9c4e44c30"
      },
      "execution_count": null,
      "outputs": [
        {
          "output_type": "stream",
          "name": "stdout",
          "text": [
            "Accuracy: 0.9190982492605324\n",
            "Confusion Matrix:\n",
            "[[1851  534]\n",
            " [ 478 9646]]\n"
          ]
        }
      ]
    },
    {
      "cell_type": "code",
      "source": [
        "# Evalution Metrics\n",
        "from sklearn.metrics import confusion_matrix, classification_report, roc_curve, auc\n",
        "import matplotlib.pyplot as plt\n",
        "print(\"Confusion Matrix:\")\n",
        "print(confusion_matrix(y_test, y_pred))\n",
        "print(\"Classification Report:\")\n",
        "print(classification_report(y_test, y_pred))\n",
        "# ROC curve and AUC\n",
        "fpr, tpr, thresholds = roc_curve(y_test, y_pred)\n",
        "roc_auc = auc(fpr, tpr)\n",
        "plt.plot(fpr, tpr, label='ROC curve (area = %0.2f)' % roc_auc)\n",
        "plt.plot([0, 1], [0, 1], 'k--')\n",
        "plt.xlim([0.0, 1.0])\n",
        "plt.ylim([0.0, 1.05])\n",
        "plt.xlabel('False Positive Rate')\n",
        "plt.ylabel('True Positive Rate')\n",
        "plt.title('Receiver operating characteristic')\n",
        "plt.legend(loc=\"lower right\")\n",
        "plt.show()"
      ],
      "metadata": {
        "colab": {
          "base_uri": "https://localhost:8080/",
          "height": 704
        },
        "id": "GleTJf4kVZG-",
        "outputId": "f24bed12-0e80-44db-80c3-d4ae1934c3fc"
      },
      "execution_count": null,
      "outputs": [
        {
          "output_type": "stream",
          "name": "stdout",
          "text": [
            "Confusion Matrix:\n",
            "[[1851  534]\n",
            " [ 478 9646]]\n",
            "Classification Report:\n",
            "              precision    recall  f1-score   support\n",
            "\n",
            "           0       0.79      0.78      0.79      2385\n",
            "           1       0.95      0.95      0.95     10124\n",
            "\n",
            "    accuracy                           0.92     12509\n",
            "   macro avg       0.87      0.86      0.87     12509\n",
            "weighted avg       0.92      0.92      0.92     12509\n",
            "\n"
          ]
        },
        {
          "output_type": "display_data",
          "data": {
            "text/plain": [
              "<Figure size 640x480 with 1 Axes>"
            ],
            "image/png": "[encoded data removed]"
          },
          "metadata": {}
        }
      ]
    },
    {
      "cell_type": "code",
      "source": [
        "# Predict the status for a new sample\n",
        "# 'quantity tons_log', 'selling_price_log','application', 'thickness_log', 'width','country','customer','product_ref']].values, X_ohe\n",
        "new_sample = np.array([[np.log(700), np.log(956), 10, np.log(2),1500,28.0,30202938,1670798778,'W']])\n",
        "new_sample_ohe = ohe.transform(new_sample[:, [8]]).toarray()\n",
        "new_sample = np.concatenate((new_sample[:, [0,1,2, 3, 4, 5, 6,7]], new_sample_ohe), axis=1)\n",
        "new_sample = scaler.transform(new_sample)\n",
        "new_pred = dtc.predict(new_sample)\n",
        "if new_pred==1:\n",
        "    print('The status is: Won')\n",
        "else:\n",
        "    print('The status is: Lost')"
      ],
      "metadata": {
        "colab": {
          "base_uri": "https://localhost:8080/"
        },
        "id": "OM7dqMwoVdhM",
        "outputId": "b415cbee-a1b0-4a07-dc47-452bcc638a6c"
      },
      "execution_count": null,
      "outputs": [
        {
          "output_type": "stream",
          "name": "stdout",
          "text": [
            "The status is: Lost\n"
          ]
        }
      ]
    },
    {
      "cell_type": "code",
      "source": [
        "# Saving the model\n",
        "import pickle\n",
        "with open('clsmodel.pkl', 'wb') as file:\n",
        "    pickle.dump(dtc, file)\n",
        "with open('cscaler.pkl', 'wb') as f:\n",
        "    pickle.dump(scaler, f)\n",
        "with open('ct.pkl', 'wb') as f:\n",
        "    pickle.dump(ohe, f)"
      ],
      "metadata": {
        "id": "f65BUqgJVhqB"
      },
      "execution_count": null,
      "outputs": []
    },
    {
      "cell_type": "code",
      "source": [
        "from google.colab import files\n",
        "\n",
        "# List of file paths to download\n",
        "file_paths = ['/content/model.pkl', '/content/scaler.pkl', '/content/t.pkl','/content/s.pkl','/content/clsmodel.pkl','/content/cscaler.pkl','/content/ct.pkl']\n",
        "\n",
        "# Loop through each file path and download it\n",
        "for file_path in file_paths:\n",
        "    files.download(file_path)"
      ],
      "metadata": {
        "colab": {
          "base_uri": "https://localhost:8080/",
          "height": 17
        },
        "id": "9gxbZVHHVk0-",
        "outputId": "80f0ce96-f6bf-4abc-cc93-9d1247a64e5d"
      },
      "execution_count": null,
      "outputs": [
        {
          "output_type": "display_data",
          "data": {
            "text/plain": [
              "<IPython.core.display.Javascript object>"
            ],
            "application/javascript": [
              "\n",
              "    async function download(id, filename, size) {\n",
              "      if (!google.colab.kernel.accessAllowed) {\n",
              "        return;\n",
              "      }\n",
              "      const div = document.createElement('div');\n",
              "      const label = document.createElement('label');\n",
              "      label.textContent = `Downloading \"${filename}\": `;\n",
              "      div.appendChild(label);\n",
              "      const progress = document.createElement('progress');\n",
              "      progress.max = size;\n",
              "      div.appendChild(progress);\n",
              "      document.body.appendChild(div);\n",
              "\n",
              "      const buffers = [];\n",
              "      let downloaded = 0;\n",
              "\n",
              "      const channel = await google.colab.kernel.comms.open(id);\n",
              "      // Send a message to notify the kernel that we're ready.\n",
              "      channel.send({})\n",
              "\n",
              "      for await (const message of channel.messages) {\n",
              "        // Send a message to notify the kernel that we're ready.\n",
              "        channel.send({})\n",
              "        if (message.buffers) {\n",
              "          for (const buffer of message.buffers) {\n",
              "            buffers.push(buffer);\n",
              "            downloaded += buffer.byteLength;\n",
              "            progress.value = downloaded;\n",
              "          }\n",
              "        }\n",
              "      }\n",
              "      const blob = new Blob(buffers, {type: 'application/binary'});\n",
              "      const a = document.createElement('a');\n",
              "      a.href = window.URL.createObjectURL(blob);\n",
              "      a.download = filename;\n",
              "      div.appendChild(a);\n",
              "      a.click();\n",
              "      div.remove();\n",
              "    }\n",
              "  "
            ]
          },
          "metadata": {}
        },
        {
          "output_type": "display_data",
          "data": {
            "text/plain": [
              "<IPython.core.display.Javascript object>"
            ],
            "application/javascript": [
              "download(\"download_c3ce610d-f2e7-42a7-abf2-2e307b22e126\", \"model.pkl\", 933414)"
            ]
          },
          "metadata": {}
        },
        {
          "output_type": "display_data",
          "data": {
            "text/plain": [
              "<IPython.core.display.Javascript object>"
            ],
            "application/javascript": [
              "\n",
              "    async function download(id, filename, size) {\n",
              "      if (!google.colab.kernel.accessAllowed) {\n",
              "        return;\n",
              "      }\n",
              "      const div = document.createElement('div');\n",
              "      const label = document.createElement('label');\n",
              "      label.textContent = `Downloading \"${filename}\": `;\n",
              "      div.appendChild(label);\n",
              "      const progress = document.createElement('progress');\n",
              "      progress.max = size;\n",
              "      div.appendChild(progress);\n",
              "      document.body.appendChild(div);\n",
              "\n",
              "      const buffers = [];\n",
              "      let downloaded = 0;\n",
              "\n",
              "      const channel = await google.colab.kernel.comms.open(id);\n",
              "      // Send a message to notify the kernel that we're ready.\n",
              "      channel.send({})\n",
              "\n",
              "      for await (const message of channel.messages) {\n",
              "        // Send a message to notify the kernel that we're ready.\n",
              "        channel.send({})\n",
              "        if (message.buffers) {\n",
              "          for (const buffer of message.buffers) {\n",
              "            buffers.push(buffer);\n",
              "            downloaded += buffer.byteLength;\n",
              "            progress.value = downloaded;\n",
              "          }\n",
              "        }\n",
              "      }\n",
              "      const blob = new Blob(buffers, {type: 'application/binary'});\n",
              "      const a = document.createElement('a');\n",
              "      a.href = window.URL.createObjectURL(blob);\n",
              "      a.download = filename;\n",
              "      div.appendChild(a);\n",
              "      a.click();\n",
              "      div.remove();\n",
              "    }\n",
              "  "
            ]
          },
          "metadata": {}
        },
        {
          "output_type": "display_data",
          "data": {
            "text/plain": [
              "<IPython.core.display.Javascript object>"
            ],
            "application/javascript": [
              "download(\"download_4666f425-3eb2-4065-9571-601e152dc218\", \"scaler.pkl\", 1001)"
            ]
          },
          "metadata": {}
        },
        {
          "output_type": "display_data",
          "data": {
            "text/plain": [
              "<IPython.core.display.Javascript object>"
            ],
            "application/javascript": [
              "\n",
              "    async function download(id, filename, size) {\n",
              "      if (!google.colab.kernel.accessAllowed) {\n",
              "        return;\n",
              "      }\n",
              "      const div = document.createElement('div');\n",
              "      const label = document.createElement('label');\n",
              "      label.textContent = `Downloading \"${filename}\": `;\n",
              "      div.appendChild(label);\n",
              "      const progress = document.createElement('progress');\n",
              "      progress.max = size;\n",
              "      div.appendChild(progress);\n",
              "      document.body.appendChild(div);\n",
              "\n",
              "      const buffers = [];\n",
              "      let downloaded = 0;\n",
              "\n",
              "      const channel = await google.colab.kernel.comms.open(id);\n",
              "      // Send a message to notify the kernel that we're ready.\n",
              "      channel.send({})\n",
              "\n",
              "      for await (const message of channel.messages) {\n",
              "        // Send a message to notify the kernel that we're ready.\n",
              "        channel.send({})\n",
              "        if (message.buffers) {\n",
              "          for (const buffer of message.buffers) {\n",
              "            buffers.push(buffer);\n",
              "            downloaded += buffer.byteLength;\n",
              "            progress.value = downloaded;\n",
              "          }\n",
              "        }\n",
              "      }\n",
              "      const blob = new Blob(buffers, {type: 'application/binary'});\n",
              "      const a = document.createElement('a');\n",
              "      a.href = window.URL.createObjectURL(blob);\n",
              "      a.download = filename;\n",
              "      div.appendChild(a);\n",
              "      a.click();\n",
              "      div.remove();\n",
              "    }\n",
              "  "
            ]
          },
          "metadata": {}
        },
        {
          "output_type": "display_data",
          "data": {
            "text/plain": [
              "<IPython.core.display.Javascript object>"
            ],
            "application/javascript": [
              "download(\"download_b66e8717-5c9d-41df-91b2-ade44abb1383\", \"t.pkl\", 612)"
            ]
          },
          "metadata": {}
        },
        {
          "output_type": "display_data",
          "data": {
            "text/plain": [
              "<IPython.core.display.Javascript object>"
            ],
            "application/javascript": [
              "\n",
              "    async function download(id, filename, size) {\n",
              "      if (!google.colab.kernel.accessAllowed) {\n",
              "        return;\n",
              "      }\n",
              "      const div = document.createElement('div');\n",
              "      const label = document.createElement('label');\n",
              "      label.textContent = `Downloading \"${filename}\": `;\n",
              "      div.appendChild(label);\n",
              "      const progress = document.createElement('progress');\n",
              "      progress.max = size;\n",
              "      div.appendChild(progress);\n",
              "      document.body.appendChild(div);\n",
              "\n",
              "      const buffers = [];\n",
              "      let downloaded = 0;\n",
              "\n",
              "      const channel = await google.colab.kernel.comms.open(id);\n",
              "      // Send a message to notify the kernel that we're ready.\n",
              "      channel.send({})\n",
              "\n",
              "      for await (const message of channel.messages) {\n",
              "        // Send a message to notify the kernel that we're ready.\n",
              "        channel.send({})\n",
              "        if (message.buffers) {\n",
              "          for (const buffer of message.buffers) {\n",
              "            buffers.push(buffer);\n",
              "            downloaded += buffer.byteLength;\n",
              "            progress.value = downloaded;\n",
              "          }\n",
              "        }\n",
              "      }\n",
              "      const blob = new Blob(buffers, {type: 'application/binary'});\n",
              "      const a = document.createElement('a');\n",
              "      a.href = window.URL.createObjectURL(blob);\n",
              "      a.download = filename;\n",
              "      div.appendChild(a);\n",
              "      a.click();\n",
              "      div.remove();\n",
              "    }\n",
              "  "
            ]
          },
          "metadata": {}
        },
        {
          "output_type": "display_data",
          "data": {
            "text/plain": [
              "<IPython.core.display.Javascript object>"
            ],
            "application/javascript": [
              "download(\"download_18d0921d-4e9a-4a44-b3a6-16d5bfbda638\", \"s.pkl\", 668)"
            ]
          },
          "metadata": {}
        },
        {
          "output_type": "display_data",
          "data": {
            "text/plain": [
              "<IPython.core.display.Javascript object>"
            ],
            "application/javascript": [
              "\n",
              "    async function download(id, filename, size) {\n",
              "      if (!google.colab.kernel.accessAllowed) {\n",
              "        return;\n",
              "      }\n",
              "      const div = document.createElement('div');\n",
              "      const label = document.createElement('label');\n",
              "      label.textContent = `Downloading \"${filename}\": `;\n",
              "      div.appendChild(label);\n",
              "      const progress = document.createElement('progress');\n",
              "      progress.max = size;\n",
              "      div.appendChild(progress);\n",
              "      document.body.appendChild(div);\n",
              "\n",
              "      const buffers = [];\n",
              "      let downloaded = 0;\n",
              "\n",
              "      const channel = await google.colab.kernel.comms.open(id);\n",
              "      // Send a message to notify the kernel that we're ready.\n",
              "      channel.send({})\n",
              "\n",
              "      for await (const message of channel.messages) {\n",
              "        // Send a message to notify the kernel that we're ready.\n",
              "        channel.send({})\n",
              "        if (message.buffers) {\n",
              "          for (const buffer of message.buffers) {\n",
              "            buffers.push(buffer);\n",
              "            downloaded += buffer.byteLength;\n",
              "            progress.value = downloaded;\n",
              "          }\n",
              "        }\n",
              "      }\n",
              "      const blob = new Blob(buffers, {type: 'application/binary'});\n",
              "      const a = document.createElement('a');\n",
              "      a.href = window.URL.createObjectURL(blob);\n",
              "      a.download = filename;\n",
              "      div.appendChild(a);\n",
              "      a.click();\n",
              "      div.remove();\n",
              "    }\n",
              "  "
            ]
          },
          "metadata": {}
        },
        {
          "output_type": "display_data",
          "data": {
            "text/plain": [
              "<IPython.core.display.Javascript object>"
            ],
            "application/javascript": [
              "download(\"download_4a198b3a-1816-4c6a-8388-eabdd426b531\", \"clsmodel.pkl\", 529491)"
            ]
          },
          "metadata": {}
        },
        {
          "output_type": "display_data",
          "data": {
            "text/plain": [
              "<IPython.core.display.Javascript object>"
            ],
            "application/javascript": [
              "\n",
              "    async function download(id, filename, size) {\n",
              "      if (!google.colab.kernel.accessAllowed) {\n",
              "        return;\n",
              "      }\n",
              "      const div = document.createElement('div');\n",
              "      const label = document.createElement('label');\n",
              "      label.textContent = `Downloading \"${filename}\": `;\n",
              "      div.appendChild(label);\n",
              "      const progress = document.createElement('progress');\n",
              "      progress.max = size;\n",
              "      div.appendChild(progress);\n",
              "      document.body.appendChild(div);\n",
              "\n",
              "      const buffers = [];\n",
              "      let downloaded = 0;\n",
              "\n",
              "      const channel = await google.colab.kernel.comms.open(id);\n",
              "      // Send a message to notify the kernel that we're ready.\n",
              "      channel.send({})\n",
              "\n",
              "      for await (const message of channel.messages) {\n",
              "        // Send a message to notify the kernel that we're ready.\n",
              "        channel.send({})\n",
              "        if (message.buffers) {\n",
              "          for (const buffer of message.buffers) {\n",
              "            buffers.push(buffer);\n",
              "            downloaded += buffer.byteLength;\n",
              "            progress.value = downloaded;\n",
              "          }\n",
              "        }\n",
              "      }\n",
              "      const blob = new Blob(buffers, {type: 'application/binary'});\n",
              "      const a = document.createElement('a');\n",
              "      a.href = window.URL.createObjectURL(blob);\n",
              "      a.download = filename;\n",
              "      div.appendChild(a);\n",
              "      a.click();\n",
              "      div.remove();\n",
              "    }\n",
              "  "
            ]
          },
          "metadata": {}
        },
        {
          "output_type": "display_data",
          "data": {
            "text/plain": [
              "<IPython.core.display.Javascript object>"
            ],
            "application/javascript": [
              "download(\"download_0990e109-51c1-42be-8e3c-b82fa04d6b77\", \"cscaler.pkl\", 809)"
            ]
          },
          "metadata": {}
        },
        {
          "output_type": "display_data",
          "data": {
            "text/plain": [
              "<IPython.core.display.Javascript object>"
            ],
            "application/javascript": [
              "\n",
              "    async function download(id, filename, size) {\n",
              "      if (!google.colab.kernel.accessAllowed) {\n",
              "        return;\n",
              "      }\n",
              "      const div = document.createElement('div');\n",
              "      const label = document.createElement('label');\n",
              "      label.textContent = `Downloading \"${filename}\": `;\n",
              "      div.appendChild(label);\n",
              "      const progress = document.createElement('progress');\n",
              "      progress.max = size;\n",
              "      div.appendChild(progress);\n",
              "      document.body.appendChild(div);\n",
              "\n",
              "      const buffers = [];\n",
              "      let downloaded = 0;\n",
              "\n",
              "      const channel = await google.colab.kernel.comms.open(id);\n",
              "      // Send a message to notify the kernel that we're ready.\n",
              "      channel.send({})\n",
              "\n",
              "      for await (const message of channel.messages) {\n",
              "        // Send a message to notify the kernel that we're ready.\n",
              "        channel.send({})\n",
              "        if (message.buffers) {\n",
              "          for (const buffer of message.buffers) {\n",
              "            buffers.push(buffer);\n",
              "            downloaded += buffer.byteLength;\n",
              "            progress.value = downloaded;\n",
              "          }\n",
              "        }\n",
              "      }\n",
              "      const blob = new Blob(buffers, {type: 'application/binary'});\n",
              "      const a = document.createElement('a');\n",
              "      a.href = window.URL.createObjectURL(blob);\n",
              "      a.download = filename;\n",
              "      div.appendChild(a);\n",
              "      a.click();\n",
              "      div.remove();\n",
              "    }\n",
              "  "
            ]
          },
          "metadata": {}
        },
        {
          "output_type": "display_data",
          "data": {
            "text/plain": [
              "<IPython.core.display.Javascript object>"
            ],
            "application/javascript": [
              "download(\"download_2da62f37-011b-4d8e-bd58-b4b69fddcb0b\", \"ct.pkl\", 612)"
            ]
          },
          "metadata": {}
        }
      ]
    },
    {
      "cell_type": "markdown",
      "source": [
        "Streamlit App"
      ],
      "metadata": {
        "id": "aWqLDKXyWCIb"
      }
    },
    {
      "cell_type": "code",
      "source": [
        "import pandas as pd\n",
        "import numpy as np\n",
        "from sklearn.model_selection import train_test_split\n",
        "from sklearn.tree import DecisionTreeRegressor\n",
        "from sklearn.preprocessing import StandardScaler, OneHotEncoder\n",
        "from sklearn.metrics import mean_squared_error\n",
        "from sklearn.model_selection import GridSearchCV\n",
        "from sklearn.preprocessing import LabelBinarizer\n",
        "import streamlit as st\n",
        "import re\n",
        "\n",
        "st.set_page_config(layout=\"wide\")\n",
        "\n",
        "st.write(\"\"\"\n",
        "<div style='text-align:center'>\n",
        "    <h1 style='color:#009999;'>Industrial Copper Modeling Application</h1>\n",
        "</div>\n",
        "\"\"\", unsafe_allow_html=True)\n",
        "\n",
        "tab1, tab2 = st.tabs([\"PREDICT SELLING PRICE\", \"PREDICT STATUS\"])\n",
        "with tab1:\n",
        "    # Define the possible values for the dropdown menus\n",
        "    status_options = ['Won', 'Draft', 'To be approved', 'Lost', 'Not lost for AM', 'Wonderful', 'Revised', 'Offered',\n",
        "                      'Offerable']\n",
        "    item_type_options = ['W', 'WI', 'S', 'Others', 'PL', 'IPL', 'SLAWR']\n",
        "    country_options = [28., 25., 30., 32., 38., 78., 27., 77., 113., 79., 26., 39., 40., 84., 80., 107., 89.]\n",
        "    application_options = [10., 41., 28., 59., 15., 4., 38., 56., 42., 26., 27., 19., 20., 66., 29., 22., 40., 25., 67.,\n",
        "                           79., 3., 99., 2., 5., 39., 69., 70., 65., 58., 68.]\n",
        "    product = ['611112', '611728', '628112', '628117', '628377', '640400', '640405', '640665',\n",
        "               '611993', '929423819', '1282007633', '1332077137', '164141591', '164336407',\n",
        "               '164337175', '1665572032', '1665572374', '1665584320', '1665584642', '1665584662',\n",
        "               '1668701376', '1668701698', '1668701718', '1668701725', '1670798778', '1671863738',\n",
        "               '1671876026', '1690738206', '1690738219', '1693867550', '1693867563', '1721130331', '1722207579']\n",
        "\n",
        "    # Define the widgets for user input\n",
        "    with st.form(\"my_form\"):\n",
        "        col1, col2, col3 = st.columns([5, 2, 5])\n",
        "        with col1:\n",
        "            st.write(' ')\n",
        "            status = st.selectbox(\"Status\", status_options, key=1)\n",
        "            item_type = st.selectbox(\"Item Type\", item_type_options, key=2)\n",
        "            country = st.selectbox(\"Country\", sorted(country_options), key=3)\n",
        "            application = st.selectbox(\"Application\", sorted(application_options), key=4)\n",
        "            product_ref = st.selectbox(\"Product Reference\", product, key=5)\n",
        "        with col3:\n",
        "            st.write(\n",
        "                f'<h5 style=\"color:rgb(0, 153, 153,0.4);\">NOTE: Min & Max given for reference, you can enter any value</h5>',\n",
        "                unsafe_allow_html=True)\n",
        "            quantity_tons = st.text_input(\"Enter Quantity Tons (Min:611728 & Max:1722207579)\")\n",
        "            thickness = st.text_input(\"Enter thickness (Min:0.18 & Max:400)\")\n",
        "            width = st.text_input(\"Enter width (Min:1, Max:2990)\")\n",
        "            customer = st.text_input(\"customer ID (Min:12458, Max:30408185)\")\n",
        "            submit_button = st.form_submit_button(label=\"PREDICT SELLING PRICE\")\n",
        "            st.markdown(\"\"\"\n",
        "                    <style>\n",
        "                    div.stButton > button:first-child {\n",
        "                        background-color: #009999;\n",
        "                        color: white;\n",
        "                        width: 100%;\n",
        "                    }\n",
        "                    </style>\n",
        "                \"\"\", unsafe_allow_html=True)\n",
        "\n",
        "        flag = 0\n",
        "        pattern = \"^(?:\\d+|\\d*\\.\\d+)$\"\n",
        "        for i in [quantity_tons, thickness, width, customer]:\n",
        "            if re.match(pattern, i):\n",
        "                pass\n",
        "            else:\n",
        "                flag = 1\n",
        "                break\n",
        "\n",
        "    if submit_button and flag == 1:\n",
        "        if len(i) == 0:\n",
        "            st.write(\"please enter a valid number space not allowed\")\n",
        "        else:\n",
        "            st.write(\"You have entered an invalid value: \", i)\n",
        "\n",
        "    if submit_button and flag == 0:\n",
        "        import pickle\n",
        "\n",
        "        with open(r\"source/model.pkl\", 'rb') as file:\n",
        "            loaded_model = pickle.load(file)\n",
        "        with open(r'source/scaler.pkl', 'rb') as f:\n",
        "            scaler_loaded = pickle.load(f)\n",
        "\n",
        "        with open(r\"source/t.pkl\", 'rb') as f:\n",
        "            t_loaded = pickle.load(f)\n",
        "\n",
        "        with open(r\"source/s.pkl\", 'rb') as f:\n",
        "            s_loaded = pickle.load(f)\n",
        "\n",
        "        new_sample = np.array([[np.log(float(quantity_tons)), application, np.log(float(thickness)), float(width),\n",
        "                                country, float(customer), int(product_ref), item_type, status]])\n",
        "        new_sample_ohe = t_loaded.transform(new_sample[:, [7]]).toarray()\n",
        "        new_sample_be = s_loaded.transform(new_sample[:, [8]]).toarray()\n",
        "        new_sample = np.concatenate((new_sample[:, [0, 1, 2, 3, 4, 5, 6, ]], new_sample_ohe, new_sample_be), axis=1)\n",
        "        new_sample1 = scaler_loaded.transform(new_sample)\n",
        "        new_pred = loaded_model.predict(new_sample1)[0]\n",
        "        st.write('## :green[Predicted selling price:] ', np.exp(new_pred))\n",
        "\n",
        "with tab2:\n",
        "    with st.form(\"my_form1\"):\n",
        "        col1, col2, col3 = st.columns([5, 1, 5])\n",
        "        with col1:\n",
        "            cquantity_tons = st.text_input(\"Enter Quantity Tons (Min:611728 & Max:1722207579)\")\n",
        "            cthickness = st.text_input(\"Enter thickness (Min:0.18 & Max:400)\")\n",
        "            cwidth = st.text_input(\"Enter width (Min:1, Max:2990)\")\n",
        "            ccustomer = st.text_input(\"customer ID (Min:12458, Max:30408185)\")\n",
        "            cselling = st.text_input(\"Selling Price (Min:1, Max:100001015)\")\n",
        "\n",
        "        with col3:\n",
        "            st.write(' ')\n",
        "            citem_type = st.selectbox(\"Item Type\", item_type_options, key=21)\n",
        "            ccountry = st.selectbox(\"Country\", sorted(country_options), key=31)\n",
        "            capplication = st.selectbox(\"Application\", sorted(application_options), key=41)\n",
        "            cproduct_ref = st.selectbox(\"Product Reference\", product, key=51)\n",
        "            csubmit_button = st.form_submit_button(label=\"PREDICT STATUS\")\n",
        "\n",
        "        cflag = 0\n",
        "        pattern = \"^(?:\\d+|\\d*\\.\\d+)$\"\n",
        "        for k in [cquantity_tons, cthickness, cwidth, ccustomer, cselling]:\n",
        "            if re.match(pattern, k):\n",
        "                pass\n",
        "            else:\n",
        "                cflag = 1\n",
        "                break\n",
        "\n",
        "    if csubmit_button and cflag == 1:\n",
        "        if len(k) == 0:\n",
        "            st.write(\"please enter a valid number space not allowed\")\n",
        "        else:\n",
        "            st.write(\"You have entered an invalid value: \", k)\n",
        "\n",
        "    if csubmit_button and cflag == 0:\n",
        "        import pickle\n",
        "\n",
        "        with open(r\"source/clsmodel.pkl\", 'rb') as file:\n",
        "            cloaded_model = pickle.load(file)\n",
        "\n",
        "        with open(r'source/cscaler.pkl', 'rb') as f:\n",
        "            cscaler_loaded = pickle.load(f)\n",
        "\n",
        "        with open(r\"source/ct.pkl\", 'rb') as f:\n",
        "            ct_loaded = pickle.load(f)\n",
        "\n",
        "        # Predict the status for a new sample\n",
        "        # 'quantity tons_log', 'selling_price_log','application', 'thickness_log', 'width','country','customer','product_ref']].values, X_ohe\n",
        "        new_sample = np.array([[np.log(float(cquantity_tons)), np.log(float(cselling)), capplication,\n",
        "                                np.log(float(cthickness)), float(cwidth), ccountry, int(ccustomer), int(product_ref),\n",
        "                                citem_type]])\n",
        "        new_sample_ohe = ct_loaded.transform(new_sample[:, [8]]).toarray()\n",
        "        new_sample = np.concatenate((new_sample[:, [0, 1, 2, 3, 4, 5, 6, 7]], new_sample_ohe), axis=1)\n",
        "        new_sample = cscaler_loaded.transform(new_sample)\n",
        "        new_pred = cloaded_model.predict(new_sample)\n",
        "        if new_pred == 1:\n",
        "            st.write('## :green[The Status is Won] ')\n",
        "        else:\n",
        "            st.write('## :red[The status is Lost] ')\n",
        "\n",
        "st.write(f'<h6 style=\"color:rgb(0, 153, 153,0.35);\">App Created by  Logeshwaran M </h6>', unsafe_allow_html=True)"
      ],
      "metadata": {
        "id": "cj8UgmOHV_nP"
      },
      "execution_count": null,
      "outputs": []
    }
  ]
}