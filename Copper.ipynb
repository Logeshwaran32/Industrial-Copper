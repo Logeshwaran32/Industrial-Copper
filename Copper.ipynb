{
  "nbformat": 4,
  "nbformat_minor": 0,
  "metadata": {
    "colab": {
      "provenance": [],
      "gpuType": "T4",
      "mount_file_id": "15V9KRsfmPV68r2OARM5eFoITGyrNdSri",
      "authorship_tag": "ABX9TyNxiOkn+NoGsbRVf2yYIzSQ",
      "include_colab_link": true
    },
    "kernelspec": {
      "name": "python3",
      "display_name": "Python 3"
    },
    "language_info": {
      "name": "python"
    }
  },
  "cells": [
    {
      "cell_type": "markdown",
      "metadata": {
        "id": "view-in-github",
        "colab_type": "text"
      },
      "source": [
        "<a href=\"https://colab.research.google.com/github/Logeshwaran32/Industrial-Copper/blob/main/Copper.ipynb\" target=\"_parent\"><img src=\"https://colab.research.google.com/assets/colab-badge.svg\" alt=\"Open In Colab\"/></a>"
      ]
    },
    {
      "cell_type": "code",
      "source": [
        "# Importing libraries\n",
        "\n",
        "import pandas as pd\n",
        "import seaborn as sns\n",
        "import numpy as np\n",
        "import matplotlib.pyplot as plt\n",
        "import warnings\n",
        "warnings.filterwarnings(\"ignore\")"
      ],
      "metadata": {
        "id": "m_b7SeCk6_Dy"
      },
      "execution_count": 43,
      "outputs": []
    },
    {
      "cell_type": "code",
      "source": [
        "# Read the CSV file into a pandas dataframe\n",
        "df = pd.read_csv('/content/Copper_Set.xlsx - Result 1.csv')\n",
        "df.head(5)"
      ],
      "metadata": {
        "id": "RoQ8PUbXQtO8"
      },
      "execution_count": null,
      "outputs": []
    },
    {
      "cell_type": "markdown",
      "source": [
        "Null values, shape and data types before dealing with incorrect data"
      ],
      "metadata": {
        "id": "yDKqpGQISeBq"
      }
    },
    {
      "cell_type": "code",
      "source": [
        "df.shape"
      ],
      "metadata": {
        "id": "_LnS_aIZTdrb"
      },
      "execution_count": null,
      "outputs": []
    },
    {
      "cell_type": "code",
      "source": [
        "# missing values\n",
        "missing_values_count = df.isnull().sum()\n",
        "print(missing_values_count)"
      ],
      "metadata": {
        "id": "KX9XgBMxTm81"
      },
      "execution_count": null,
      "outputs": []
    },
    {
      "cell_type": "code",
      "source": [
        "df.info()"
      ],
      "metadata": {
        "id": "czxiTOGbTtvv"
      },
      "execution_count": null,
      "outputs": []
    },
    {
      "cell_type": "markdown",
      "source": [
        "Dealing with data in wrong format"
      ],
      "metadata": {
        "id": "ua6PQ837TswF"
      }
    },
    {
      "cell_type": "code",
      "source": [
        "# for categorical variables, this step is ignored\n",
        "df['item_date'] = pd.to_datetime(df['item_date'], format='%Y%m%d', errors='coerce').dt.date\n",
        "df['quantity tons'] = pd.to_numeric(df['quantity tons'], errors='coerce')\n",
        "df['customer'] = pd.to_numeric(df['customer'], errors='coerce')\n",
        "df['country'] = pd.to_numeric(df['country'], errors='coerce')\n",
        "df['application'] = pd.to_numeric(df['application'], errors='coerce')\n",
        "df['thickness'] = pd.to_numeric(df['thickness'], errors='coerce')\n",
        "df['width'] = pd.to_numeric(df['width'], errors='coerce')\n",
        "df['material_ref'] = df['material_ref'].str.lstrip('0')\n",
        "df['product_ref'] = pd.to_numeric(df['product_ref'], errors='coerce')\n",
        "df['delivery date'] = pd.to_datetime(df['delivery date'], format='%Y%m%d', errors='coerce').dt.date\n",
        "df['selling_price'] = pd.to_numeric(df['selling_price'], errors='coerce')"
      ],
      "metadata": {
        "id": "VjewKrVST1jt"
      },
      "execution_count": 48,
      "outputs": []
    },
    {
      "cell_type": "markdown",
      "source": [
        "Nan values and shape after dealing with data in wrong format"
      ],
      "metadata": {
        "id": "AgVzes9TT0uX"
      }
    },
    {
      "cell_type": "code",
      "source": [
        "missing_values_count = df.isnull().sum()\n",
        "print(missing_values_count)\n",
        "print(df.shape)\n",
        "df.info()"
      ],
      "metadata": {
        "id": "by9a06zSTxMz"
      },
      "execution_count": null,
      "outputs": []
    },
    {
      "cell_type": "markdown",
      "source": [
        "Dealing with Missing Values"
      ],
      "metadata": {
        "id": "DR8JHgLOT60f"
      }
    },
    {
      "cell_type": "code",
      "source": [
        "# material_ref has large set of null values, so replacing them with unknown\n",
        "df['material_ref'].fillna('unknown', inplace=True)\n",
        "# deleting the remaining null values as they are less than 1% of data which can be neglected\n",
        "df = df.dropna()"
      ],
      "metadata": {
        "id": "sXjRMZzkT7jE"
      },
      "execution_count": 50,
      "outputs": []
    },
    {
      "cell_type": "code",
      "source": [
        "missing_values_count = df.isnull().sum()\n",
        "print(missing_values_count)\n",
        "print(df.shape)"
      ],
      "metadata": {
        "id": "CS38w1tiUAsg"
      },
      "execution_count": null,
      "outputs": []
    },
    {
      "cell_type": "code",
      "source": [
        "df_p=df.copy()"
      ],
      "metadata": {
        "id": "5rqD7Rp2UGza"
      },
      "execution_count": 52,
      "outputs": []
    },
    {
      "cell_type": "markdown",
      "source": [
        "PLOTTING"
      ],
      "metadata": {
        "id": "EP_Hi259UKEx"
      }
    },
    {
      "cell_type": "code",
      "source": [
        "# ['quantity tons','selling_price','application','thickness','width', 'country']\n",
        "# ['status','item type']\n",
        "\n",
        "df_p['quantity tons']   # skewed\n",
        "df_p['country']\n",
        "df_p['application']\n",
        "df_p['thickness']       # skewed\n",
        "df_p['width']\n",
        "df_p['selling_price']   # skewed\n",
        "\n",
        "import seaborn as sns\n",
        "import matplotlib.pyplot as plt\n",
        "\n",
        "sns.distplot(df_p['quantity tons'])\n",
        "plt.show()\n",
        "sns.distplot(df_p['country'])\n",
        "plt.show()\n",
        "sns.distplot(df_p['application'])\n",
        "plt.show()\n",
        "sns.distplot(df_p['thickness'])\n",
        "plt.show()\n",
        "sns.distplot(df_p['width'])\n",
        "plt.show()\n",
        "sns.distplot(df_p['selling_price'])\n",
        "plt.show()"
      ],
      "metadata": {
        "id": "lO197mf0UK4D"
      },
      "execution_count": null,
      "outputs": []
    },
    {
      "cell_type": "code",
      "source": [
        "import numpy as np\n",
        "mask1 = df_p['selling_price'] <= 0\n",
        "print(mask1.sum())\n",
        "df_p.loc[mask1, 'selling_price'] = np.nan\n",
        "\n",
        "mask1 = df_p['quantity tons'] <= 0\n",
        "print(mask1.sum())\n",
        "df_p.loc[mask1, 'quantity tons'] = np.nan\n",
        "\n",
        "mask1 = df_p['thickness'] <= 0\n",
        "print(mask1.sum())"
      ],
      "metadata": {
        "id": "Htk0SOUvUSFy"
      },
      "execution_count": null,
      "outputs": []
    },
    {
      "cell_type": "code",
      "source": [
        "df_p.isnull().sum()"
      ],
      "metadata": {
        "id": "fg7rQfw7UU9p"
      },
      "execution_count": null,
      "outputs": []
    },
    {
      "cell_type": "code",
      "source": [
        "df_p.dropna(inplace=True)\n",
        "len(df_p)"
      ],
      "metadata": {
        "id": "nGDgErG4UYhy"
      },
      "execution_count": null,
      "outputs": []
    },
    {
      "cell_type": "code",
      "source": [
        "import numpy as np\n",
        "df_p['selling_price_log'] = np.log(df_p['selling_price'])\n",
        "sns.distplot(df_p['selling_price_log'])\n",
        "plt.show()\n",
        "\n",
        "df_p['quantity tons_log'] = np.log(df_p['quantity tons'])\n",
        "sns.distplot(df_p['quantity tons_log'])\n",
        "plt.show()\n",
        "\n",
        "df_p['thickness_log'] = np.log(df_p['thickness'])\n",
        "sns.distplot(df_p['thickness_log'])\n",
        "plt.show()"
      ],
      "metadata": {
        "id": "vQKfxg4TUZhM"
      },
      "execution_count": null,
      "outputs": []
    },
    {
      "cell_type": "code",
      "source": [
        "df_p.head()"
      ],
      "metadata": {
        "id": "GM0_mx8qUfbc"
      },
      "execution_count": null,
      "outputs": []
    },
    {
      "cell_type": "code",
      "source": [
        "x=df_p[['quantity tons_log','application','thickness_log','width','selling_price_log','country','customer','product_ref']].corr()\n",
        "sns.heatmap(x, annot=True, cmap=\"YlGnBu\")"
      ],
      "metadata": {
        "id": "2TlgVGanUib5"
      },
      "execution_count": null,
      "outputs": []
    },
    {
      "cell_type": "markdown",
      "source": [
        "DECISION TREE REGRESSOR\n",
        "Encode categorical features\n",
        "\n",
        "Test and Train split\n",
        "\n",
        "Define Hyperparameters for GridSearchCV\n",
        "\n",
        "Train the DecisionTreeRegressor with best parameters\n",
        "\n",
        "Evalution metrics\n",
        "\n",
        "Predict the selling price for new values\n",
        "\n",
        "Save the DecisionTreeRegressor model"
      ],
      "metadata": {
        "id": "6GnM6H5FU03k"
      }
    },
    {
      "cell_type": "code",
      "source": [
        "import pandas as pd\n",
        "import numpy as np\n",
        "from sklearn.model_selection import train_test_split\n",
        "from sklearn.tree import DecisionTreeRegressor\n",
        "from sklearn.preprocessing import StandardScaler, OneHotEncoder\n",
        "from sklearn.metrics import mean_squared_error, r2_score\n",
        "from sklearn.model_selection import GridSearchCV\n",
        "\n",
        "X=df_p[['quantity tons_log','status','item type','application','thickness_log','width','country','customer','product_ref']]\n",
        "y=df_p['selling_price_log']\n",
        "# encoding categorical variables\n",
        "ohe = OneHotEncoder(handle_unknown='ignore')\n",
        "ohe.fit(X[['item type']])\n",
        "X_ohe = ohe.fit_transform(X[['item type']]).toarray()\n",
        "ohe2 = OneHotEncoder(handle_unknown='ignore')\n",
        "ohe2.fit(X[['status']])\n",
        "X_be = ohe2.fit_transform(X[['status']]).toarray()\n",
        "# independent features after encoding\n",
        "X = np.concatenate((X[['quantity tons_log', 'application', 'thickness_log', 'width','country','customer','product_ref']].values, X_ohe, X_be), axis=1)\n",
        "scaler = StandardScaler()\n",
        "X = scaler.fit_transform(X)\n",
        "# test and train split\n",
        "X_train, X_test, y_train, y_test = train_test_split(X, y, test_size=0.1, random_state=42)\n",
        "# decision tree\n",
        "dtr = DecisionTreeRegressor()\n",
        "# hyperparameters\n",
        "param_grid = {'max_depth': [2, 5, 10, 20],\n",
        "              'min_samples_split': [2, 5, 10],\n",
        "              'min_samples_leaf': [1, 2, 4],\n",
        "              'max_features': ['auto', 'sqrt', 'log2']}\n",
        "# gridsearchcv\n",
        "grid_search = GridSearchCV(estimator=dtr, param_grid=param_grid, cv=5)\n",
        "grid_search.fit(X_train, y_train)\n",
        "print(\"Best hyperparameters:\", grid_search.best_params_)\n",
        "best_model = grid_search.best_estimator_\n",
        "y_pred = best_model.predict(X_test)\n",
        "# evalution metrics\n",
        "mse = mean_squared_error(y_test, y_pred)\n",
        "r2 = r2_score(y_test, y_pred)\n",
        "print('Mean squared error:', mse)\n",
        "print('R-squared:', r2)"
      ],
      "metadata": {
        "id": "wmi6AoQeU9R9"
      },
      "execution_count": null,
      "outputs": []
    },
    {
      "cell_type": "code",
      "source": [
        "# Prepare the new sample\n",
        "new_sample = np.array([[np.log(40), 10, np.log(250), 0, 28, 30202938, 1670798778, 'PL', 'Won']])\n",
        "\n",
        "# One-hot encode categorical variables 'country' and 'customer'\n",
        "new_sample_ohe = ohe.transform(new_sample[:, [7]]).toarray()\n",
        "new_sample_be = ohe2.transform(new_sample[:, [8]]).toarray()\n",
        "\n",
        "# Concatenate features with one-hot encoded representations\n",
        "new_sample = np.concatenate((new_sample[:, [0, 1, 2, 3, 4, 5, 6]], new_sample_ohe, new_sample_be), axis=1)\n",
        "\n",
        "# Scale the new sample using the same scaler used for training data\n",
        "new_sample1 = scaler.transform(new_sample)\n",
        "\n",
        "# Predict the selling price for the new sample using the best_model\n",
        "new_pred = best_model.predict(new_sample1)\n",
        "\n",
        "# Convert the predicted selling price back to the original scale (from logarithmic scale)\n",
        "print('Predicted selling price:', np.exp(new_pred))"
      ],
      "metadata": {
        "id": "SmkULcnmVBa_"
      },
      "execution_count": null,
      "outputs": []
    },
    {
      "cell_type": "code",
      "source": [
        "import pickle\n",
        "\n",
        "# Save the model\n",
        "with open('model.pkl', 'wb') as file:\n",
        "    pickle.dump(best_model, file)  # Save the best model\n",
        "\n",
        "# Save the scaler\n",
        "with open('scaler.pkl', 'wb') as f:\n",
        "    pickle.dump(scaler, f)  # Save the scaler object\n",
        "\n",
        "# Save the one-hot encoder for feature transformation\n",
        "with open('t.pkl', 'wb') as f:\n",
        "    pickle.dump(ohe, f)  # Save the first one-hot encoder\n",
        "\n",
        "# Save another one-hot encoder for a different purpose\n",
        "with open('s.pkl', 'wb') as f:\n",
        "    pickle.dump(ohe2, f)  # Save the second one-hot encoder"
      ],
      "metadata": {
        "id": "Htk59VJlVEC9"
      },
      "execution_count": 62,
      "outputs": []
    },
    {
      "cell_type": "code",
      "source": [
        "print(len(df_p))\n",
        "df_p.head(3)"
      ],
      "metadata": {
        "id": "UbM3e2AhVGvm"
      },
      "execution_count": null,
      "outputs": []
    },
    {
      "cell_type": "code",
      "source": [
        "df_c = df_p[df_p['status'].isin(['Won', 'Lost'])]\n",
        "len(df_c)"
      ],
      "metadata": {
        "id": "UcSzCY1_VMhq"
      },
      "execution_count": null,
      "outputs": []
    },
    {
      "cell_type": "markdown",
      "source": [
        "DECISION TREE CLASSIFIER"
      ],
      "metadata": {
        "id": "rlqS58Frf_VQ"
      }
    },
    {
      "cell_type": "code",
      "source": [
        "from sklearn.tree import DecisionTreeClassifier\n",
        "from sklearn.model_selection import train_test_split\n",
        "from sklearn.metrics import accuracy_score, confusion_matrix\n",
        "from sklearn.preprocessing import StandardScaler, OneHotEncoder,LabelBinarizer\n",
        "\n",
        "Y = df_c['status']\n",
        "X= df_c[['quantity tons_log','selling_price_log','item type','application','thickness_log','width','country','customer','product_ref']]\n",
        "\n",
        "# encoding categorical variables\n",
        "ohe = OneHotEncoder(handle_unknown='ignore')\n",
        "ohe.fit(X[['item type']])\n",
        "X_ohe = ohe.fit_transform(X[['item type']]).toarray()\n",
        "be = LabelBinarizer()\n",
        "be.fit(Y)\n",
        "y = be.fit_transform(Y)\n",
        "# independent features after encoding\n",
        "X = np.concatenate((X[['quantity tons_log', 'selling_price_log','application', 'thickness_log', 'width','country','customer','product_ref']].values, X_ohe), axis=1)\n",
        "scaler = StandardScaler()\n",
        "X = scaler.fit_transform(X)\n",
        "\n",
        "X_train, X_test, y_train, y_test = train_test_split(X, y, test_size=0.2, random_state=42)\n",
        "# decision tree classifier\n",
        "dtc = DecisionTreeClassifier()\n",
        "dtc.fit(X_train, y_train)\n",
        "y_pred = dtc.predict(X_test)\n",
        "\n",
        "accuracy = accuracy_score(y_test, y_pred)\n",
        "print(f\"Accuracy: {accuracy}\")\n",
        "cm = confusion_matrix(y_test, y_pred)\n",
        "print(f\"Confusion Matrix:\\n{cm}\")"
      ],
      "metadata": {
        "colab": {
          "base_uri": "https://localhost:8080/"
        },
        "id": "HFrT5HF4VVCB",
        "outputId": "66fac999-e4bf-487f-b2ce-e47205bd9825"
      },
      "execution_count": 78,
      "outputs": [
        {
          "output_type": "stream",
          "name": "stdout",
          "text": [
            "Accuracy: 0.9120521172638436\n",
            "Confusion Matrix:\n",
            "[[ 5690  1312]\n",
            " [ 1334 21750]]\n"
          ]
        }
      ]
    },
    {
      "cell_type": "code",
      "source": [
        "# Evalution Metrics\n",
        "from sklearn.metrics import confusion_matrix, classification_report, roc_curve, auc\n",
        "import matplotlib.pyplot as plt\n",
        "print(\"Confusion Matrix:\")\n",
        "print(confusion_matrix(y_test, y_pred))\n",
        "print(\"Classification Report:\")\n",
        "print(classification_report(y_test, y_pred))\n",
        "# ROC curve and AUC\n",
        "fpr, tpr, thresholds = roc_curve(y_test, y_pred)\n",
        "roc_auc = auc(fpr, tpr)\n",
        "plt.plot(fpr, tpr, label='ROC curve (area = %0.2f)' % roc_auc)\n",
        "plt.plot([0, 1], [0, 1], 'k--')\n",
        "plt.xlim([0.0, 1.0])\n",
        "plt.ylim([0.0, 1.05])\n",
        "plt.xlabel('False Positive Rate')\n",
        "plt.ylabel('True Positive Rate')\n",
        "plt.title('Receiver operating characteristic')\n",
        "plt.legend(loc=\"lower right\")\n",
        "plt.show()"
      ],
      "metadata": {
        "id": "GleTJf4kVZG-"
      },
      "execution_count": null,
      "outputs": []
    },
    {
      "cell_type": "code",
      "source": [
        "# Predict the status for a new sample\n",
        "# 'quantity tons_log', 'selling_price_log','application', 'thickness_log', 'width','country','customer','product_ref']].values, X_ohe\n",
        "new_sample = np.array([[np.log(700), np.log(956), 10, np.log(2),1500,28.0,30202938,1670798778,'W']])\n",
        "new_sample_ohe = ohe.transform(new_sample[:, [8]]).toarray()\n",
        "new_sample = np.concatenate((new_sample[:, [0,1,2, 3, 4, 5, 6,7]], new_sample_ohe), axis=1)\n",
        "new_sample = scaler.transform(new_sample)\n",
        "new_pred = dtc.predict(new_sample)\n",
        "if new_pred==1:\n",
        "    print('The status is: Won')\n",
        "else:\n",
        "    print('The status is: Lost')"
      ],
      "metadata": {
        "id": "OM7dqMwoVdhM"
      },
      "execution_count": null,
      "outputs": []
    },
    {
      "cell_type": "code",
      "source": [
        "# Saving the model\n",
        "import pickle\n",
        "with open('clsmodel.pkl', 'wb') as file:\n",
        "    pickle.dump(dtc, file)\n",
        "with open('cscaler.pkl', 'wb') as f:\n",
        "    pickle.dump(scaler, f)\n",
        "with open('ct.pkl', 'wb') as f:\n",
        "    pickle.dump(ohe, f)"
      ],
      "metadata": {
        "id": "f65BUqgJVhqB"
      },
      "execution_count": 81,
      "outputs": []
    },
    {
      "cell_type": "code",
      "source": [
        "from google.colab import files\n",
        "\n",
        "# List of file paths to download\n",
        "file_paths = ['/content/model.pkl', '/content/scaler.pkl', '/content/t.pkl','/content/s.pkl','/content/clsmodel.pkl','/content/cscaler.pkl','/content/ct.pkl']\n",
        "\n",
        "# Loop through each file path and download it\n",
        "for file_path in file_paths:\n",
        "    files.download(file_path)"
      ],
      "metadata": {
        "colab": {
          "base_uri": "https://localhost:8080/",
          "height": 17
        },
        "id": "9gxbZVHHVk0-",
        "outputId": "1d60cc89-81a5-4562-ff32-a74510654df8"
      },
      "execution_count": 82,
      "outputs": [
        {
          "output_type": "display_data",
          "data": {
            "text/plain": [
              "<IPython.core.display.Javascript object>"
            ],
            "application/javascript": [
              "\n",
              "    async function download(id, filename, size) {\n",
              "      if (!google.colab.kernel.accessAllowed) {\n",
              "        return;\n",
              "      }\n",
              "      const div = document.createElement('div');\n",
              "      const label = document.createElement('label');\n",
              "      label.textContent = `Downloading \"${filename}\": `;\n",
              "      div.appendChild(label);\n",
              "      const progress = document.createElement('progress');\n",
              "      progress.max = size;\n",
              "      div.appendChild(progress);\n",
              "      document.body.appendChild(div);\n",
              "\n",
              "      const buffers = [];\n",
              "      let downloaded = 0;\n",
              "\n",
              "      const channel = await google.colab.kernel.comms.open(id);\n",
              "      // Send a message to notify the kernel that we're ready.\n",
              "      channel.send({})\n",
              "\n",
              "      for await (const message of channel.messages) {\n",
              "        // Send a message to notify the kernel that we're ready.\n",
              "        channel.send({})\n",
              "        if (message.buffers) {\n",
              "          for (const buffer of message.buffers) {\n",
              "            buffers.push(buffer);\n",
              "            downloaded += buffer.byteLength;\n",
              "            progress.value = downloaded;\n",
              "          }\n",
              "        }\n",
              "      }\n",
              "      const blob = new Blob(buffers, {type: 'application/binary'});\n",
              "      const a = document.createElement('a');\n",
              "      a.href = window.URL.createObjectURL(blob);\n",
              "      a.download = filename;\n",
              "      div.appendChild(a);\n",
              "      a.click();\n",
              "      div.remove();\n",
              "    }\n",
              "  "
            ]
          },
          "metadata": {}
        },
        {
          "output_type": "display_data",
          "data": {
            "text/plain": [
              "<IPython.core.display.Javascript object>"
            ],
            "application/javascript": [
              "download(\"download_3c7d6e69-831d-4203-bd6f-6562e45550bb\", \"model.pkl\", 2019110)"
            ]
          },
          "metadata": {}
        },
        {
          "output_type": "display_data",
          "data": {
            "text/plain": [
              "<IPython.core.display.Javascript object>"
            ],
            "application/javascript": [
              "\n",
              "    async function download(id, filename, size) {\n",
              "      if (!google.colab.kernel.accessAllowed) {\n",
              "        return;\n",
              "      }\n",
              "      const div = document.createElement('div');\n",
              "      const label = document.createElement('label');\n",
              "      label.textContent = `Downloading \"${filename}\": `;\n",
              "      div.appendChild(label);\n",
              "      const progress = document.createElement('progress');\n",
              "      progress.max = size;\n",
              "      div.appendChild(progress);\n",
              "      document.body.appendChild(div);\n",
              "\n",
              "      const buffers = [];\n",
              "      let downloaded = 0;\n",
              "\n",
              "      const channel = await google.colab.kernel.comms.open(id);\n",
              "      // Send a message to notify the kernel that we're ready.\n",
              "      channel.send({})\n",
              "\n",
              "      for await (const message of channel.messages) {\n",
              "        // Send a message to notify the kernel that we're ready.\n",
              "        channel.send({})\n",
              "        if (message.buffers) {\n",
              "          for (const buffer of message.buffers) {\n",
              "            buffers.push(buffer);\n",
              "            downloaded += buffer.byteLength;\n",
              "            progress.value = downloaded;\n",
              "          }\n",
              "        }\n",
              "      }\n",
              "      const blob = new Blob(buffers, {type: 'application/binary'});\n",
              "      const a = document.createElement('a');\n",
              "      a.href = window.URL.createObjectURL(blob);\n",
              "      a.download = filename;\n",
              "      div.appendChild(a);\n",
              "      a.click();\n",
              "      div.remove();\n",
              "    }\n",
              "  "
            ]
          },
          "metadata": {}
        },
        {
          "output_type": "display_data",
          "data": {
            "text/plain": [
              "<IPython.core.display.Javascript object>"
            ],
            "application/javascript": [
              "download(\"download_093abd33-43cf-47db-a63a-dcc5a27f0b54\", \"scaler.pkl\", 1001)"
            ]
          },
          "metadata": {}
        },
        {
          "output_type": "display_data",
          "data": {
            "text/plain": [
              "<IPython.core.display.Javascript object>"
            ],
            "application/javascript": [
              "\n",
              "    async function download(id, filename, size) {\n",
              "      if (!google.colab.kernel.accessAllowed) {\n",
              "        return;\n",
              "      }\n",
              "      const div = document.createElement('div');\n",
              "      const label = document.createElement('label');\n",
              "      label.textContent = `Downloading \"${filename}\": `;\n",
              "      div.appendChild(label);\n",
              "      const progress = document.createElement('progress');\n",
              "      progress.max = size;\n",
              "      div.appendChild(progress);\n",
              "      document.body.appendChild(div);\n",
              "\n",
              "      const buffers = [];\n",
              "      let downloaded = 0;\n",
              "\n",
              "      const channel = await google.colab.kernel.comms.open(id);\n",
              "      // Send a message to notify the kernel that we're ready.\n",
              "      channel.send({})\n",
              "\n",
              "      for await (const message of channel.messages) {\n",
              "        // Send a message to notify the kernel that we're ready.\n",
              "        channel.send({})\n",
              "        if (message.buffers) {\n",
              "          for (const buffer of message.buffers) {\n",
              "            buffers.push(buffer);\n",
              "            downloaded += buffer.byteLength;\n",
              "            progress.value = downloaded;\n",
              "          }\n",
              "        }\n",
              "      }\n",
              "      const blob = new Blob(buffers, {type: 'application/binary'});\n",
              "      const a = document.createElement('a');\n",
              "      a.href = window.URL.createObjectURL(blob);\n",
              "      a.download = filename;\n",
              "      div.appendChild(a);\n",
              "      a.click();\n",
              "      div.remove();\n",
              "    }\n",
              "  "
            ]
          },
          "metadata": {}
        },
        {
          "output_type": "display_data",
          "data": {
            "text/plain": [
              "<IPython.core.display.Javascript object>"
            ],
            "application/javascript": [
              "download(\"download_a0a6e233-7821-419d-84da-dfe429cb7986\", \"t.pkl\", 612)"
            ]
          },
          "metadata": {}
        },
        {
          "output_type": "display_data",
          "data": {
            "text/plain": [
              "<IPython.core.display.Javascript object>"
            ],
            "application/javascript": [
              "\n",
              "    async function download(id, filename, size) {\n",
              "      if (!google.colab.kernel.accessAllowed) {\n",
              "        return;\n",
              "      }\n",
              "      const div = document.createElement('div');\n",
              "      const label = document.createElement('label');\n",
              "      label.textContent = `Downloading \"${filename}\": `;\n",
              "      div.appendChild(label);\n",
              "      const progress = document.createElement('progress');\n",
              "      progress.max = size;\n",
              "      div.appendChild(progress);\n",
              "      document.body.appendChild(div);\n",
              "\n",
              "      const buffers = [];\n",
              "      let downloaded = 0;\n",
              "\n",
              "      const channel = await google.colab.kernel.comms.open(id);\n",
              "      // Send a message to notify the kernel that we're ready.\n",
              "      channel.send({})\n",
              "\n",
              "      for await (const message of channel.messages) {\n",
              "        // Send a message to notify the kernel that we're ready.\n",
              "        channel.send({})\n",
              "        if (message.buffers) {\n",
              "          for (const buffer of message.buffers) {\n",
              "            buffers.push(buffer);\n",
              "            downloaded += buffer.byteLength;\n",
              "            progress.value = downloaded;\n",
              "          }\n",
              "        }\n",
              "      }\n",
              "      const blob = new Blob(buffers, {type: 'application/binary'});\n",
              "      const a = document.createElement('a');\n",
              "      a.href = window.URL.createObjectURL(blob);\n",
              "      a.download = filename;\n",
              "      div.appendChild(a);\n",
              "      a.click();\n",
              "      div.remove();\n",
              "    }\n",
              "  "
            ]
          },
          "metadata": {}
        },
        {
          "output_type": "display_data",
          "data": {
            "text/plain": [
              "<IPython.core.display.Javascript object>"
            ],
            "application/javascript": [
              "download(\"download_e0ccb9d2-2ebf-4c7c-a44a-18abd0c7cfd8\", \"s.pkl\", 668)"
            ]
          },
          "metadata": {}
        },
        {
          "output_type": "display_data",
          "data": {
            "text/plain": [
              "<IPython.core.display.Javascript object>"
            ],
            "application/javascript": [
              "\n",
              "    async function download(id, filename, size) {\n",
              "      if (!google.colab.kernel.accessAllowed) {\n",
              "        return;\n",
              "      }\n",
              "      const div = document.createElement('div');\n",
              "      const label = document.createElement('label');\n",
              "      label.textContent = `Downloading \"${filename}\": `;\n",
              "      div.appendChild(label);\n",
              "      const progress = document.createElement('progress');\n",
              "      progress.max = size;\n",
              "      div.appendChild(progress);\n",
              "      document.body.appendChild(div);\n",
              "\n",
              "      const buffers = [];\n",
              "      let downloaded = 0;\n",
              "\n",
              "      const channel = await google.colab.kernel.comms.open(id);\n",
              "      // Send a message to notify the kernel that we're ready.\n",
              "      channel.send({})\n",
              "\n",
              "      for await (const message of channel.messages) {\n",
              "        // Send a message to notify the kernel that we're ready.\n",
              "        channel.send({})\n",
              "        if (message.buffers) {\n",
              "          for (const buffer of message.buffers) {\n",
              "            buffers.push(buffer);\n",
              "            downloaded += buffer.byteLength;\n",
              "            progress.value = downloaded;\n",
              "          }\n",
              "        }\n",
              "      }\n",
              "      const blob = new Blob(buffers, {type: 'application/binary'});\n",
              "      const a = document.createElement('a');\n",
              "      a.href = window.URL.createObjectURL(blob);\n",
              "      a.download = filename;\n",
              "      div.appendChild(a);\n",
              "      a.click();\n",
              "      div.remove();\n",
              "    }\n",
              "  "
            ]
          },
          "metadata": {}
        },
        {
          "output_type": "display_data",
          "data": {
            "text/plain": [
              "<IPython.core.display.Javascript object>"
            ],
            "application/javascript": [
              "download(\"download_b8ec8137-66ae-47b3-8b6a-01fb3a262a65\", \"clsmodel.pkl\", 1359795)"
            ]
          },
          "metadata": {}
        },
        {
          "output_type": "display_data",
          "data": {
            "text/plain": [
              "<IPython.core.display.Javascript object>"
            ],
            "application/javascript": [
              "\n",
              "    async function download(id, filename, size) {\n",
              "      if (!google.colab.kernel.accessAllowed) {\n",
              "        return;\n",
              "      }\n",
              "      const div = document.createElement('div');\n",
              "      const label = document.createElement('label');\n",
              "      label.textContent = `Downloading \"${filename}\": `;\n",
              "      div.appendChild(label);\n",
              "      const progress = document.createElement('progress');\n",
              "      progress.max = size;\n",
              "      div.appendChild(progress);\n",
              "      document.body.appendChild(div);\n",
              "\n",
              "      const buffers = [];\n",
              "      let downloaded = 0;\n",
              "\n",
              "      const channel = await google.colab.kernel.comms.open(id);\n",
              "      // Send a message to notify the kernel that we're ready.\n",
              "      channel.send({})\n",
              "\n",
              "      for await (const message of channel.messages) {\n",
              "        // Send a message to notify the kernel that we're ready.\n",
              "        channel.send({})\n",
              "        if (message.buffers) {\n",
              "          for (const buffer of message.buffers) {\n",
              "            buffers.push(buffer);\n",
              "            downloaded += buffer.byteLength;\n",
              "            progress.value = downloaded;\n",
              "          }\n",
              "        }\n",
              "      }\n",
              "      const blob = new Blob(buffers, {type: 'application/binary'});\n",
              "      const a = document.createElement('a');\n",
              "      a.href = window.URL.createObjectURL(blob);\n",
              "      a.download = filename;\n",
              "      div.appendChild(a);\n",
              "      a.click();\n",
              "      div.remove();\n",
              "    }\n",
              "  "
            ]
          },
          "metadata": {}
        },
        {
          "output_type": "display_data",
          "data": {
            "text/plain": [
              "<IPython.core.display.Javascript object>"
            ],
            "application/javascript": [
              "download(\"download_02d92d3f-4c56-467c-9545-20c0df351325\", \"cscaler.pkl\", 809)"
            ]
          },
          "metadata": {}
        },
        {
          "output_type": "display_data",
          "data": {
            "text/plain": [
              "<IPython.core.display.Javascript object>"
            ],
            "application/javascript": [
              "\n",
              "    async function download(id, filename, size) {\n",
              "      if (!google.colab.kernel.accessAllowed) {\n",
              "        return;\n",
              "      }\n",
              "      const div = document.createElement('div');\n",
              "      const label = document.createElement('label');\n",
              "      label.textContent = `Downloading \"${filename}\": `;\n",
              "      div.appendChild(label);\n",
              "      const progress = document.createElement('progress');\n",
              "      progress.max = size;\n",
              "      div.appendChild(progress);\n",
              "      document.body.appendChild(div);\n",
              "\n",
              "      const buffers = [];\n",
              "      let downloaded = 0;\n",
              "\n",
              "      const channel = await google.colab.kernel.comms.open(id);\n",
              "      // Send a message to notify the kernel that we're ready.\n",
              "      channel.send({})\n",
              "\n",
              "      for await (const message of channel.messages) {\n",
              "        // Send a message to notify the kernel that we're ready.\n",
              "        channel.send({})\n",
              "        if (message.buffers) {\n",
              "          for (const buffer of message.buffers) {\n",
              "            buffers.push(buffer);\n",
              "            downloaded += buffer.byteLength;\n",
              "            progress.value = downloaded;\n",
              "          }\n",
              "        }\n",
              "      }\n",
              "      const blob = new Blob(buffers, {type: 'application/binary'});\n",
              "      const a = document.createElement('a');\n",
              "      a.href = window.URL.createObjectURL(blob);\n",
              "      a.download = filename;\n",
              "      div.appendChild(a);\n",
              "      a.click();\n",
              "      div.remove();\n",
              "    }\n",
              "  "
            ]
          },
          "metadata": {}
        },
        {
          "output_type": "display_data",
          "data": {
            "text/plain": [
              "<IPython.core.display.Javascript object>"
            ],
            "application/javascript": [
              "download(\"download_2068b588-6bdc-4a7d-b1c9-314edda8a571\", \"ct.pkl\", 612)"
            ]
          },
          "metadata": {}
        }
      ]
    },
    {
      "cell_type": "markdown",
      "source": [
        "Streamlit App"
      ],
      "metadata": {
        "id": "aWqLDKXyWCIb"
      }
    },
    {
      "cell_type": "code",
      "source": [
        "!pip install streamlit\n",
        "!pip install streamlit_option_menu\n",
        "!pip install pyngrok"
      ],
      "metadata": {
        "id": "oLURjp1qMvmR"
      },
      "execution_count": null,
      "outputs": []
    },
    {
      "cell_type": "code",
      "source": [
        "%%writefile app.py\n",
        "import pandas as pd\n",
        "import numpy as np\n",
        "from sklearn.model_selection import train_test_split\n",
        "from sklearn.tree import DecisionTreeRegressor\n",
        "from sklearn.preprocessing import StandardScaler, OneHotEncoder\n",
        "from sklearn.metrics import mean_squared_error\n",
        "from sklearn.model_selection import GridSearchCV\n",
        "from sklearn.preprocessing import LabelBinarizer\n",
        "import streamlit as st\n",
        "import re\n",
        "\n",
        "st.set_page_config(layout=\"wide\")\n",
        "\n",
        "st.write(\"\"\"\n",
        "<div style='text-align:center'>\n",
        "    <h1 style='color:#009999;'>Industrial Copper Modeling Application</h1>\n",
        "</div>\n",
        "\"\"\", unsafe_allow_html=True)\n",
        "\n",
        "tab1, tab2 = st.tabs([\"PREDICT SELLING PRICE\", \"PREDICT STATUS\"])\n",
        "with tab1:\n",
        "    # Define the possible values for the dropdown menus\n",
        "    status_options = ['Won', 'Draft', 'To be approved', 'Lost', 'Not lost for AM', 'Wonderful', 'Revised', 'Offered',\n",
        "                      'Offerable']\n",
        "    item_type_options = ['W', 'WI', 'S', 'Others', 'PL', 'IPL', 'SLAWR']\n",
        "    country_options = [28., 25., 30., 32., 38., 78., 27., 77., 113., 79., 26., 39., 40., 84., 80., 107., 89.]\n",
        "    application_options = [10., 41., 28., 59., 15., 4., 38., 56., 42., 26., 27., 19., 20., 66., 29., 22., 40., 25., 67.,\n",
        "                           79., 3., 99., 2., 5., 39., 69., 70., 65., 58., 68.]\n",
        "    product = ['611112', '611728', '628112', '628117', '628377', '640400', '640405', '640665',\n",
        "               '611993', '929423819', '1282007633', '1332077137', '164141591', '164336407',\n",
        "               '164337175', '1665572032', '1665572374', '1665584320', '1665584642', '1665584662',\n",
        "               '1668701376', '1668701698', '1668701718', '1668701725', '1670798778', '1671863738',\n",
        "               '1671876026', '1690738206', '1690738219', '1693867550', '1693867563', '1721130331', '1722207579']\n",
        "\n",
        "    # Define the widgets for user input\n",
        "    with st.form(\"my_form\"):\n",
        "        col1, col2, col3 = st.columns([5, 2, 5])\n",
        "        with col1:\n",
        "            st.write(' ')\n",
        "            status = st.selectbox(\"Status\", status_options, key=1)\n",
        "            item_type = st.selectbox(\"Item Type\", item_type_options, key=2)\n",
        "            country = st.selectbox(\"Country\", sorted(country_options), key=3)\n",
        "            application = st.selectbox(\"Application\", sorted(application_options), key=4)\n",
        "            product_ref = st.selectbox(\"Product Reference\", product, key=5)\n",
        "        with col3:\n",
        "            st.write(\n",
        "                f'<h5 style=\"color:rgb(0, 153, 153,0.4);\">NOTE: eg value given for reference, you can enter any value</h5>',\n",
        "                unsafe_allow_html=True)\n",
        "            quantity_tons = st.text_input(\"Enter Quantity Tons (eg:611728)\")\n",
        "            thickness = st.text_input(\"Enter thickness (eg:0.18 to 400)\")\n",
        "            width = st.text_input(\"Enter width (eg:2990)\")\n",
        "            customer = st.text_input(\"customer ID (eg:30408185)\")\n",
        "            submit_button = st.form_submit_button(label=\"PREDICT SELLING PRICE\")\n",
        "            st.markdown(\"\"\"\n",
        "                    <style>\n",
        "                    div.stButton > button:first-child {\n",
        "                        background-color: #009999;\n",
        "                        color: white;\n",
        "                        width: 100%;\n",
        "                    }\n",
        "                    </style>\n",
        "                \"\"\", unsafe_allow_html=True)\n",
        "\n",
        "        flag = 0\n",
        "        pattern = \"^(?:\\d+|\\d*\\.\\d+)$\"\n",
        "        for i in [quantity_tons, thickness, width, customer]:\n",
        "            if re.match(pattern, i):\n",
        "                pass\n",
        "            else:\n",
        "                flag = 1\n",
        "                break\n",
        "\n",
        "    if submit_button and flag == 1:\n",
        "        if len(i) == 0:\n",
        "            st.write(\"please enter a valid number space not allowed\")\n",
        "        else:\n",
        "            st.write(\"You have entered an invalid value: \", i)\n",
        "\n",
        "    if submit_button and flag == 0:\n",
        "        import pickle\n",
        "\n",
        "        with open(r\"/content/model.pkl\", 'rb') as file:\n",
        "            loaded_model = pickle.load(file)\n",
        "        with open(r'/content/scaler.pkl', 'rb') as f:\n",
        "            scaler_loaded = pickle.load(f)\n",
        "\n",
        "        with open(r\"/content/t.pkl\", 'rb') as f:\n",
        "            t_loaded = pickle.load(f)\n",
        "\n",
        "        with open(r\"/content/s.pkl\", 'rb') as f:\n",
        "            s_loaded = pickle.load(f)\n",
        "\n",
        "        new_sample = np.array([[np.log(float(quantity_tons)), application, np.log(float(thickness)), float(width),\n",
        "                                country, float(customer), int(product_ref), item_type, status]])\n",
        "        new_sample_ohe = t_loaded.transform(new_sample[:, [7]]).toarray()\n",
        "        new_sample_be = s_loaded.transform(new_sample[:, [8]]).toarray()\n",
        "        new_sample = np.concatenate((new_sample[:, [0, 1, 2, 3, 4, 5, 6, ]], new_sample_ohe, new_sample_be), axis=1)\n",
        "        new_sample1 = scaler_loaded.transform(new_sample)\n",
        "        new_pred = loaded_model.predict(new_sample1)[0]\n",
        "        st.write('## :green[Predicted selling price:] ', np.exp(new_pred))\n",
        "\n",
        "with tab2:\n",
        "    with st.form(\"my_form1\"):\n",
        "        col1, col2, col3 = st.columns([5, 1, 5])\n",
        "        with col1:\n",
        "            cquantity_tons = st.text_input(\"Enter Quantity Tons (eg:1722207579)\")\n",
        "            cthickness = st.text_input(\"Enter thickness (eg:400)\")\n",
        "            cwidth = st.text_input(\"Enter width (eg:2990)\")\n",
        "            ccustomer = st.text_input(\"customer ID (eg:30408185)\")\n",
        "            cselling = st.text_input(\"Selling Price (eg:100001015)\")\n",
        "\n",
        "        with col3:\n",
        "            st.write(' ')\n",
        "            citem_type = st.selectbox(\"Item Type\", item_type_options, key=21)\n",
        "            ccountry = st.selectbox(\"Country\", sorted(country_options), key=31)\n",
        "            capplication = st.selectbox(\"Application\", sorted(application_options), key=41)\n",
        "            cproduct_ref = st.selectbox(\"Product Reference\", product, key=51)\n",
        "            csubmit_button = st.form_submit_button(label=\"PREDICT STATUS\")\n",
        "\n",
        "        cflag = 0\n",
        "        pattern = \"^(?:\\d+|\\d*\\.\\d+)$\"\n",
        "        for k in [cquantity_tons, cthickness, cwidth, ccustomer, cselling]:\n",
        "            if re.match(pattern, k):\n",
        "                pass\n",
        "            else:\n",
        "                cflag = 1\n",
        "                break\n",
        "\n",
        "    if csubmit_button and cflag == 1:\n",
        "        if len(k) == 0:\n",
        "            st.write(\"please enter a valid number space not allowed\")\n",
        "        else:\n",
        "            st.write(\"You have entered an invalid value: \", k)\n",
        "\n",
        "    if csubmit_button and cflag == 0:\n",
        "        import pickle\n",
        "\n",
        "        with open(r\"/content/clsmodel.pkl\", 'rb') as file:\n",
        "            cloaded_model = pickle.load(file)\n",
        "\n",
        "        with open(r'/content/cscaler.pkl', 'rb') as f:\n",
        "            cscaler_loaded = pickle.load(f)\n",
        "\n",
        "        with open(r\"/content/ct.pkl\", 'rb') as f:\n",
        "            ct_loaded = pickle.load(f)\n",
        "\n",
        "        # Predict the status for a new sample\n",
        "        # 'quantity tons_log', 'selling_price_log','application', 'thickness_log', 'width','country','customer','product_ref']].values, X_ohe\n",
        "        new_sample = np.array([[np.log(float(cquantity_tons)), np.log(float(cselling)), capplication,\n",
        "                                np.log(float(cthickness)), float(cwidth), ccountry, int(ccustomer), int(product_ref),\n",
        "                                citem_type]])\n",
        "        new_sample_ohe = ct_loaded.transform(new_sample[:, [8]]).toarray()\n",
        "        new_sample = np.concatenate((new_sample[:, [0, 1, 2, 3, 4, 5, 6, 7]], new_sample_ohe), axis=1)\n",
        "        new_sample = cscaler_loaded.transform(new_sample)\n",
        "        new_pred = cloaded_model.predict(new_sample)\n",
        "        if new_pred == 1:\n",
        "            st.write('## :green[The Status is Won] ')\n",
        "        else:\n",
        "            st.write('## :red[The status is Lost] ')\n",
        "\n",
        "#st.write(f'<h6 style=\"color:rgb(0, 153, 153,0.35);\">App Created by  Logeshwaran M </h6>', unsafe_allow_html=True)"
      ],
      "metadata": {
        "id": "cj8UgmOHV_nP",
        "colab": {
          "base_uri": "https://localhost:8080/"
        },
        "outputId": "2ca276ae-e2ce-4ece-c565-02d09c9584e4"
      },
      "execution_count": 83,
      "outputs": [
        {
          "output_type": "stream",
          "name": "stdout",
          "text": [
            "Overwriting app.py\n"
          ]
        }
      ]
    },
    {
      "cell_type": "code",
      "source": [
        "# Restart Streamlit app\n",
        "!streamlit run app.py &>/dev/null&"
      ],
      "metadata": {
        "id": "9S9FzMcYM6gx"
      },
      "execution_count": 73,
      "outputs": []
    },
    {
      "cell_type": "code",
      "source": [
        "!ngrok config add-authtoken 2bthDyyaiMiZYDL2k8MDnRD8GGs_6tghXCdi23Y49kGT8hSgc"
      ],
      "metadata": {
        "colab": {
          "base_uri": "https://localhost:8080/"
        },
        "id": "orawrBHKM9Uc",
        "outputId": "1c910d8a-c114-49f2-9d18-65185981f524"
      },
      "execution_count": 74,
      "outputs": [
        {
          "output_type": "stream",
          "name": "stdout",
          "text": [
            "Authtoken saved to configuration file: /root/.config/ngrok/ngrok.yml\n"
          ]
        }
      ]
    },
    {
      "cell_type": "code",
      "source": [
        "from pyngrok import ngrok\n",
        "public_url = ngrok.connect(addr='8501')\n",
        "print(public_url)"
      ],
      "metadata": {
        "colab": {
          "base_uri": "https://localhost:8080/"
        },
        "id": "gS8ijMV1NArh",
        "outputId": "eb14740b-1224-4d0b-b13e-e6118bcc42ff"
      },
      "execution_count": 75,
      "outputs": [
        {
          "output_type": "stream",
          "name": "stdout",
          "text": [
            "NgrokTunnel: \"https://3e83-35-223-144-135.ngrok-free.app\" -> \"http://localhost:8501\"\n"
          ]
        }
      ]
    },
    {
      "cell_type": "code",
      "source": [
        "# Import necessary libraries for alternative models\n",
        "from sklearn.ensemble import RandomForestClassifier, RandomForestRegressor\n",
        "from sklearn.ensemble import GradientBoostingClassifier, GradientBoostingRegressor\n",
        "from sklearn.svm import SVC\n",
        "from sklearn.linear_model import LogisticRegression, LinearRegression\n",
        "from sklearn.metrics import confusion_matrix, classification_report, roc_curve, auc\n",
        "import matplotlib.pyplot as plt\n",
        "import numpy as np\n",
        "\n",
        "# Initialize lists to store performance metrics\n",
        "accuracies = []\n",
        "roc_aucs = []\n",
        "\n",
        "# Decision Tree Classifier\n",
        "dtc = DecisionTreeClassifier()\n",
        "dtc.fit(X_train, y_train)\n",
        "y_pred_dtc = dtc.predict(X_test)\n",
        "# Evaluation Metrics for Decision Tree Classifier\n",
        "print(\"Decision Tree Classifier:\")\n",
        "print(\"Confusion Matrix:\")\n",
        "print(confusion_matrix(y_test, y_pred_dtc))\n",
        "print(\"Classification Report:\")\n",
        "print(classification_report(y_test, y_pred_dtc))\n",
        "# ROC curve and AUC\n",
        "fpr_dtc, tpr_dtc, thresholds_dtc = roc_curve(y_test, y_pred_dtc)\n",
        "roc_auc_dtc = auc(fpr_dtc, tpr_dtc)\n",
        "roc_aucs.append(roc_auc_dtc)\n",
        "plt.figure()\n",
        "plt.plot(fpr_dtc, tpr_dtc, label='ROC curve (area = %0.2f)' % roc_auc_dtc)\n",
        "plt.plot([0, 1], [0, 1], 'k--')\n",
        "plt.xlim([0.0, 1.0])\n",
        "plt.ylim([0.0, 1.05])\n",
        "plt.xlabel('False Positive Rate')\n",
        "plt.ylabel('True Positive Rate')\n",
        "plt.title('Receiver operating characteristic - Decision Tree Classifier')\n",
        "plt.legend(loc=\"lower right\")\n",
        "plt.show()\n",
        "# Calculate accuracy\n",
        "accuracy_dtc = np.mean(y_pred_dtc == y_test)\n",
        "accuracies.append(accuracy_dtc)\n",
        "\n",
        "# Decision Tree Regressor\n",
        "dtr = DecisionTreeRegressor()\n",
        "dtr.fit(X_train, y_train)\n",
        "y_pred_dtr = dtr.predict(X_test)\n",
        "# Evaluation Metrics for Decision Tree Regressor\n",
        "print(\"Decision Tree Regressor:\")\n",
        "print(\"Confusion Matrix:\")\n",
        "print(confusion_matrix(y_test, y_pred_dtr))\n",
        "print(\"Classification Report:\")\n",
        "print(classification_report(y_test, y_pred_dtr))\n",
        "# ROC curve and AUC\n",
        "fpr_dtr, tpr_dtr, thresholds_dtr = roc_curve(y_test, y_pred_dtr)\n",
        "roc_auc_dtr = auc(fpr_dtr, tpr_dtr)\n",
        "roc_aucs.append(roc_auc_dtr)\n",
        "plt.figure()\n",
        "plt.plot(fpr_dtr, tpr_dtr, label='ROC curve (area = %0.2f)' % roc_auc_dtr)\n",
        "plt.plot([0, 1], [0, 1], 'k--')\n",
        "plt.xlim([0.0, 1.0])\n",
        "plt.ylim([0.0, 1.05])\n",
        "plt.xlabel('False Positive Rate')\n",
        "plt.ylabel('True Positive Rate')\n",
        "plt.title('Receiver operating characteristic - Decision Tree Regressor')\n",
        "plt.legend(loc=\"lower right\")\n",
        "plt.show()\n",
        "# Calculate accuracy\n",
        "accuracy_dtr = np.mean(y_pred_dtr == y_test)\n",
        "accuracies.append(accuracy_dtr)\n",
        "mse_dtr = mean_squared_error(y_test, y_pred_dtr)\n",
        "print('Mean squared error:', mse_dtr)\n",
        "# R-squared\n",
        "r2_dtr = r2_score(y_test, y_pred_dtr)\n",
        "print('R-squared:', r2_dtr)\n",
        "\n",
        "# Random Forest Classifier\n",
        "rfc = RandomForestClassifier()\n",
        "rfc.fit(X_train, y_train)\n",
        "y_pred_rfc = rfc.predict(X_test)\n",
        "# Evaluation Metrics for Random Forest Classifier\n",
        "print(\"Random Forest Classifier:\")\n",
        "print(\"Confusion Matrix:\")\n",
        "print(confusion_matrix(y_test, y_pred_rfc))\n",
        "print(\"Classification Report:\")\n",
        "print(classification_report(y_test, y_pred_rfc))\n",
        "# ROC curve and AUC\n",
        "fpr_rfc, tpr_rfc, thresholds_rfc = roc_curve(y_test, y_pred_rfc)\n",
        "roc_auc_rfc = auc(fpr_rfc, tpr_rfc)\n",
        "roc_aucs.append(roc_auc_rfc)\n",
        "plt.figure()\n",
        "plt.plot(fpr_rfc, tpr_rfc, label='ROC curve (area = %0.2f)' % roc_auc_rfc)\n",
        "plt.plot([0, 1], [0, 1], 'k--')\n",
        "plt.xlim([0.0, 1.0])\n",
        "plt.ylim([0.0, 1.05])\n",
        "plt.xlabel('False Positive Rate')\n",
        "plt.ylabel('True Positive Rate')\n",
        "plt.title('Receiver operating characteristic - Random Forest Classifier')\n",
        "plt.legend(loc=\"lower right\")\n",
        "plt.show()\n",
        "# Calculate accuracy\n",
        "accuracy_rfc = np.mean(y_pred_rfc == y_test)\n",
        "accuracies.append(accuracy_rfc)\n",
        "\n",
        "# Random Forest Regressor\n",
        "rfr = RandomForestRegressor()\n",
        "rfr.fit(X_train, y_train)\n",
        "y_pred_rfr = rfr.predict(X_test)\n",
        "# Evaluation Metrics for Random Forest Regressor\n",
        "print(\"Random Forest Regressor:\")\n",
        "# Mean squared error\n",
        "mse_rfr = mean_squared_error(y_test, y_pred_rfr)\n",
        "print('Mean squared error:', mse_rfr)\n",
        "# R-squared\n",
        "r2_rfr = r2_score(y_test, y_pred_rfr)\n",
        "print('R-squared:', r2_rfr)\n",
        "\n",
        "# Gradient Boosting Classifier\n",
        "gbc = GradientBoostingClassifier()\n",
        "gbc.fit(X_train, y_train)\n",
        "y_pred_gbc = gbc.predict(X_test)\n",
        "# Evaluation Metrics for Gradient Boosting Classifier\n",
        "print(\"Gradient Boosting Classifier:\")\n",
        "print(\"Confusion Matrix:\")\n",
        "print(confusion_matrix(y_test, y_pred_gbc))\n",
        "print(\"Classification Report:\")\n",
        "print(classification_report(y_test, y_pred_gbc))\n",
        "# ROC curve and AUC\n",
        "fpr_gbc, tpr_gbc, thresholds_gbc = roc_curve(y_test, y_pred_gbc)\n",
        "roc_auc_gbc = auc(fpr_gbc, tpr_gbc)\n",
        "roc_aucs.append(roc_auc_gbc)\n",
        "plt.figure()\n",
        "plt.plot(fpr_gbc, tpr_gbc, label='ROC curve (area = %0.2f)' % roc_auc_gbc)\n",
        "plt.plot([0, 1], [0, 1], 'k--')\n",
        "plt.xlim([0.0, 1.0])\n",
        "plt.ylim([0.0, 1.05])\n",
        "plt.xlabel('False Positive Rate')\n",
        "plt.ylabel('True Positive Rate')\n",
        "plt.title('Receiver operating characteristic - Gradient Boosting Classifier')\n",
        "plt.legend(loc=\"lower right\")\n",
        "plt.show()\n",
        "# Calculate accuracy\n",
        "accuracy_gbc = np.mean(y_pred_gbc == y_test)\n",
        "accuracies.append(accuracy_gbc)\n",
        "\n",
        "# Gradient Boosting Regressor\n",
        "gbr = GradientBoostingRegressor()\n",
        "gbr.fit(X_train, y_train)\n",
        "y_pred_gbr = gbr.predict(X_test)\n",
        "# Evaluation Metrics for Gradient Boosting Regressor\n",
        "print(\"Gradient Boosting Regressor:\")\n",
        "# Mean squared error\n",
        "mse_gbr = mean_squared_error(y_test, y_pred_gbr)\n",
        "print('Mean squared error:', mse_gbr)\n",
        "# R-squared\n",
        "r2_gbr = r2_score(y_test, y_pred_gbr)\n",
        "print('R-squared:', r2_gbr)\n",
        "\n",
        "# Logistic Regression Classifier\n",
        "lr = LogisticRegression()\n",
        "lr.fit(X_train, y_train)\n",
        "y_pred_lr = lr.predict(X_test)\n",
        "# Evaluation Metrics for Logistic Regression Classifier\n",
        "print(\"Logistic Regression Classifier:\")\n",
        "print(\"Confusion Matrix:\")\n",
        "print(confusion_matrix(y_test, y_pred_lr))\n",
        "print(\"Classification Report:\")\n",
        "print(classification_report(y_test, y_pred_lr))\n",
        "# ROC curve and AUC\n",
        "fpr_lr, tpr_lr, thresholds_lr = roc_curve(y_test, y_pred_lr)\n",
        "roc_auc_lr = auc(fpr_lr, tpr_lr)\n",
        "roc_aucs.append(roc_auc_lr)\n",
        "plt.figure()\n",
        "plt.plot(fpr_lr, tpr_lr, label='ROC curve (area = %0.2f)' % roc_auc_lr)\n",
        "plt.plot([0, 1], [0, 1], 'k--')\n",
        "plt.xlim([0.0, 1.0])\n",
        "plt.ylim([0.0, 1.05])\n",
        "plt.xlabel('False Positive Rate')\n",
        "plt.ylabel('True Positive Rate')\n",
        "plt.title('Receiver operating characteristic - Logistic Regression Classifier')\n",
        "plt.legend(loc=\"lower right\")\n",
        "plt.show()\n",
        "# Calculate accuracy\n",
        "accuracy_lr = np.mean(y_pred_lr == y_test)\n",
        "accuracies.append(accuracy_lr)\n",
        "\n",
        "# Linear Regression\n",
        "lin_reg = LinearRegression()\n",
        "lin_reg.fit(X_train, y_train)\n",
        "y_pred_lin_reg = lin_reg.predict(X_test)\n",
        "# Evaluation Metrics for Linear Regression\n",
        "print(\"Linear Regression:\")\n",
        "# Mean squared error\n",
        "mse_lin_reg = mean_squared_error(y_test, y_pred_lin_reg)\n",
        "print('Mean squared error:', mse_lin_reg)\n",
        "# R-squared\n",
        "r2_lin_reg = r2_score(y_test, y_pred_lin_reg)\n",
        "print('R-squared:', r2_lin_reg)\n",
        "\n",
        "# Calculate mean accuracy and mean ROC AUC across all models\n",
        "mean_accuracy = np.mean(accuracies)\n",
        "mean_roc_auc = np.mean(roc_aucs)\n",
        "\n",
        "print(\"Mean Accuracy across all models:\", mean_accuracy)\n",
        "print(\"Mean ROC AUC across all models:\", mean_roc_auc)\n"
      ],
      "metadata": {
        "colab": {
          "base_uri": "https://localhost:8080/",
          "height": 1000
        },
        "id": "Iz5McYZmrtTE",
        "outputId": "1180fa09-1da0-4c20-a3a7-80f83ca7fb20"
      },
      "execution_count": 76,
      "outputs": [
        {
          "output_type": "stream",
          "name": "stdout",
          "text": [
            "Decision Tree Classifier:\n",
            "Confusion Matrix:\n",
            "[[ 5694  1308]\n",
            " [ 1350 21734]]\n",
            "Classification Report:\n",
            "              precision    recall  f1-score   support\n",
            "\n",
            "           0       0.81      0.81      0.81      7002\n",
            "           1       0.94      0.94      0.94     23084\n",
            "\n",
            "    accuracy                           0.91     30086\n",
            "   macro avg       0.88      0.88      0.88     30086\n",
            "weighted avg       0.91      0.91      0.91     30086\n",
            "\n"
          ]
        },
        {
          "output_type": "display_data",
          "data": {
            "text/plain": [
              "<Figure size 640x480 with 1 Axes>"
            ],
            "image/png": "[encoded data removed]"
          },
          "metadata": {}
        },
        {
          "output_type": "stream",
          "name": "stdout",
          "text": [
            "Decision Tree Regressor:\n",
            "Confusion Matrix:\n",
            "[[ 5694  1308]\n",
            " [ 1326 21758]]\n",
            "Classification Report:\n",
            "              precision    recall  f1-score   support\n",
            "\n",
            "           0       0.81      0.81      0.81      7002\n",
            "           1       0.94      0.94      0.94     23084\n",
            "\n",
            "    accuracy                           0.91     30086\n",
            "   macro avg       0.88      0.88      0.88     30086\n",
            "weighted avg       0.91      0.91      0.91     30086\n",
            "\n"
          ]
        },
        {
          "output_type": "display_data",
          "data": {
            "text/plain": [
              "<Figure size 640x480 with 1 Axes>"
            ],
            "image/png": "[encoded data removed]"
          },
          "metadata": {}
        },
        {
          "output_type": "stream",
          "name": "stdout",
          "text": [
            "Mean squared error: 0.08754902612510802\n",
            "R-squared: 0.5097167574123314\n",
            "Random Forest Classifier:\n",
            "Confusion Matrix:\n",
            "[[ 5792  1210]\n",
            " [  819 22265]]\n",
            "Classification Report:\n",
            "              precision    recall  f1-score   support\n",
            "\n",
            "           0       0.88      0.83      0.85      7002\n",
            "           1       0.95      0.96      0.96     23084\n",
            "\n",
            "    accuracy                           0.93     30086\n",
            "   macro avg       0.91      0.90      0.90     30086\n",
            "weighted avg       0.93      0.93      0.93     30086\n",
            "\n"
          ]
        },
        {
          "output_type": "display_data",
          "data": {
            "text/plain": [
              "<Figure size 640x480 with 1 Axes>"
            ],
            "image/png": "[encoded data removed]"
          },
          "metadata": {}
        },
        {
          "output_type": "stream",
          "name": "stdout",
          "text": [
            "Random Forest Regressor:\n",
            "Mean squared error: 0.04770975204414013\n",
            "R-squared: 0.7328206495200941\n",
            "Gradient Boosting Classifier:\n",
            "Confusion Matrix:\n",
            "[[ 2916  4086]\n",
            " [  938 22146]]\n",
            "Classification Report:\n",
            "              precision    recall  f1-score   support\n",
            "\n",
            "           0       0.76      0.42      0.54      7002\n",
            "           1       0.84      0.96      0.90     23084\n",
            "\n",
            "    accuracy                           0.83     30086\n",
            "   macro avg       0.80      0.69      0.72     30086\n",
            "weighted avg       0.82      0.83      0.81     30086\n",
            "\n"
          ]
        },
        {
          "output_type": "display_data",
          "data": {
            "text/plain": [
              "<Figure size 640x480 with 1 Axes>"
            ],
            "image/png": "[encoded data removed]"
          },
          "metadata": {}
        },
        {
          "output_type": "stream",
          "name": "stdout",
          "text": [
            "Gradient Boosting Regressor:\n",
            "Mean squared error: 0.12064643348117572\n",
            "R-squared: 0.32436798863688876\n",
            "Logistic Regression Classifier:\n",
            "Confusion Matrix:\n",
            "[[ 1840  5162]\n",
            " [ 1278 21806]]\n",
            "Classification Report:\n",
            "              precision    recall  f1-score   support\n",
            "\n",
            "           0       0.59      0.26      0.36      7002\n",
            "           1       0.81      0.94      0.87     23084\n",
            "\n",
            "    accuracy                           0.79     30086\n",
            "   macro avg       0.70      0.60      0.62     30086\n",
            "weighted avg       0.76      0.79      0.75     30086\n",
            "\n"
          ]
        },
        {
          "output_type": "display_data",
          "data": {
            "text/plain": [
              "<Figure size 640x480 with 1 Axes>"
            ],
            "image/png": "[encoded data removed]"
          },
          "metadata": {}
        },
        {
          "output_type": "stream",
          "name": "stdout",
          "text": [
            "Linear Regression:\n",
            "Mean squared error: 0.14990277953909684\n",
            "R-squared: 0.1605295446655417\n",
            "Mean Accuracy across all models: 0.6690269842640245\n",
            "Mean ROC AUC across all models: 0.788541839742696\n"
          ]
        }
      ]
    }
  ]
}